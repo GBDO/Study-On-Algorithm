{
  "nbformat": 4,
  "nbformat_minor": 0,
  "metadata": {
    "colab": {
      "name": "baekjoon_10809.ipynb",
      "provenance": []
    },
    "kernelspec": {
      "name": "python3",
      "display_name": "Python 3"
    },
    "language_info": {
      "name": "python"
    }
  },
  "cells": [
    {
      "cell_type": "code",
      "execution_count": 13,
      "metadata": {
        "colab": {
          "base_uri": "https://localhost:8080/"
        },
        "id": "QSsMmgOtU5CD",
        "outputId": "42218a5f-cbf4-42ea-eee0-e252d900f7b0"
      },
      "outputs": [
        {
          "output_type": "stream",
          "name": "stdout",
          "text": [
            "baekjoon\n",
            "1 0 -1 -1 2 -1 -1 -1 -1 4 3 -1 -1 7 5 -1 -1 -1 -1 -1 -1 -1 -1 -1 -1 -1 \n"
          ]
        }
      ],
      "source": [
        "tar = input()\n",
        "keyls = ['a','b','c','d','e','f','g','h','i','j','k','l','m','n','o','p','q','r','s','t','u','v','w','x','y','z']\n",
        "ls = {key: -1 for key in keyls}\n",
        "result = ''\n",
        "for i in range(len(tar)):\n",
        "    if ls[tar[i]] == -1:\n",
        "        ls[tar[i]] = i\n",
        "    else:\n",
        "        pass\n",
        "for k in keyls:\n",
        "    result = result + str(ls[k])\n",
        "    result = result + ' '\n",
        "print(result)"
      ]
    }
  ]
}