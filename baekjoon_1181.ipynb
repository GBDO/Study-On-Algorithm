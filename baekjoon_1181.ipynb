{
  "nbformat": 4,
  "nbformat_minor": 0,
  "metadata": {
    "colab": {
      "name": "baekjoon_1181.ipynb",
      "provenance": []
    },
    "kernelspec": {
      "name": "python3",
      "display_name": "Python 3"
    },
    "language_info": {
      "name": "python"
    }
  },
  "cells": [
    {
      "cell_type": "code",
      "execution_count": 10,
      "metadata": {
        "colab": {
          "base_uri": "https://localhost:8080/"
        },
        "id": "OsDJK8VzKy2D",
        "outputId": "f6b5fd57-2682-49b6-91d1-ffa0b5e4c807"
      },
      "outputs": [
        {
          "output_type": "stream",
          "name": "stdout",
          "text": [
            "13\n",
            "but\n",
            "i\n",
            "wont\n",
            "hesitate\n",
            "no\n",
            "more\n",
            "no\n",
            "more\n",
            "it\n",
            "cannot\n",
            "wait\n",
            "im\n",
            "yours\n",
            "i\n",
            "im\n",
            "it\n",
            "no\n",
            "but\n",
            "more\n",
            "wait\n",
            "wont\n",
            "yours\n",
            "cannot\n",
            "hesitate\n"
          ]
        }
      ],
      "source": [
        "num = int(input())\n",
        "ls = []\n",
        "for i in range(num):\n",
        "    ls.append(input())\n",
        "ls = set(ls)\n",
        "ls = list(ls)\n",
        "ls.sort(key= lambda x: (len(x),x))\n",
        "for k in range(len(ls)):\n",
        "    print(ls[k])"
      ]
    }
  ]
}