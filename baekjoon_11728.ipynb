{
  "nbformat": 4,
  "nbformat_minor": 0,
  "metadata": {
    "colab": {
      "name": "baekjoon_11728.ipynb",
      "provenance": []
    },
    "kernelspec": {
      "name": "python3",
      "display_name": "Python 3"
    },
    "language_info": {
      "name": "python"
    }
  },
  "cells": [
    {
      "cell_type": "code",
      "execution_count": 2,
      "metadata": {
        "colab": {
          "base_uri": "https://localhost:8080/"
        },
        "id": "tMkAG-_XbHFb",
        "outputId": "9c09e69b-a234-4129-fda3-2aacfd442dee"
      },
      "outputs": [
        {
          "output_type": "stream",
          "name": "stdout",
          "text": [
            "2 2\n",
            "3 5\n",
            "2 9\n",
            "2 3 5 9 "
          ]
        }
      ],
      "source": [
        "n1, n2 = map(int, input().split())\n",
        "ls = []\n",
        "for i in [n1,n2]:\n",
        "    var = map(int, input().split())\n",
        "    for k in var:\n",
        "        ls.append(k)\n",
        "ls = list(set(ls))\n",
        "ls.sort()\n",
        "for j in range(len(ls)):\n",
        "    print(ls[j], end=' ')"
      ]
    }
  ]
}