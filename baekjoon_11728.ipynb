{
  "nbformat": 4,
  "nbformat_minor": 0,
  "metadata": {
    "colab": {
      "name": "baekjoon_11728.ipynb",
      "provenance": []
    },
    "kernelspec": {
      "name": "python3",
      "display_name": "Python 3"
    },
    "language_info": {
      "name": "python"
    }
  },
  "cells": [
    {
      "cell_type": "code",
      "execution_count": 4,
      "metadata": {
        "colab": {
          "base_uri": "https://localhost:8080/"
        },
        "id": "tMkAG-_XbHFb",
        "outputId": "f228a3f3-c40f-4f12-c2ba-52800b1af13a"
      },
      "outputs": [
        {
          "output_type": "stream",
          "name": "stdout",
          "text": [
            "2 1\n",
            "4 7\n",
            "1\n",
            "1 4 7 "
          ]
        }
      ],
      "source": [
        "n1, n2 = map(int, input().split())\n",
        "ls = []\n",
        "for i in [n1,n2]:\n",
        "    var = map(int, input().split())\n",
        "    for k in var:\n",
        "        ls.append(k)\n",
        "ls.sort()\n",
        "for j in range(len(ls)):\n",
        "    print(ls[j], end=' ')"
      ]
    }
  ]
}