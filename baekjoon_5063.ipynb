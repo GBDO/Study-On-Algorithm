{
  "nbformat": 4,
  "nbformat_minor": 0,
  "metadata": {
    "colab": {
      "name": "baekjoon_5063.ipynb",
      "provenance": []
    },
    "kernelspec": {
      "name": "python3",
      "display_name": "Python 3"
    },
    "language_info": {
      "name": "python"
    }
  },
  "cells": [
    {
      "cell_type": "code",
      "execution_count": 1,
      "metadata": {
        "colab": {
          "base_uri": "https://localhost:8080/"
        },
        "id": "SGprnl8l1iAs",
        "outputId": "c649de00-fe0b-41b1-806c-c87ef956f08b"
      },
      "outputs": [
        {
          "output_type": "stream",
          "name": "stdout",
          "text": [
            "3\n",
            "0 100 70\n",
            "advertise\n",
            "100 130 30\n",
            "does not matter\n",
            "-100 -70 40\n",
            "do not advertise\n"
          ]
        }
      ],
      "source": [
        "num = int(input())\n",
        "for _ in range(num):\n",
        "    a, b, c  = map(int, input().split())\n",
        "    if b - c > a:\n",
        "        print('advertise')\n",
        "    elif b - c == a:\n",
        "        print('does not matter')\n",
        "    else:\n",
        "        print('do not advertise')"
      ]
    }
  ]
}