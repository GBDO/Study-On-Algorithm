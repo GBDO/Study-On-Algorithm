{
  "nbformat": 4,
  "nbformat_minor": 0,
  "metadata": {
    "colab": {
      "name": "baekjoon_1764_try_1.ipynb",
      "provenance": []
    },
    "kernelspec": {
      "name": "python3",
      "display_name": "Python 3"
    },
    "language_info": {
      "name": "python"
    }
  },
  "cells": [
    {
      "cell_type": "code",
      "execution_count": 1,
      "metadata": {
        "colab": {
          "base_uri": "https://localhost:8080/"
        },
        "id": "ccquqJfFn84z",
        "outputId": "8bf2d1fb-8552-4c14-82a6-79acc01afb8d"
      },
      "outputs": [
        {
          "output_type": "stream",
          "name": "stdout",
          "text": [
            "3 4\n",
            "ohhenrie\n",
            "charlie\n",
            "baesangwook\n",
            "obama\n",
            "baesangwook\n",
            "ohhenrie\n",
            "clinton\n",
            "2\n",
            "baesangwook\n",
            "ohhenrie\n"
          ]
        }
      ],
      "source": [
        "ln, sn = map(int, input().split())\n",
        "lls = []\n",
        "sls = []\n",
        "result = []\n",
        "n = 0\n",
        "for _ in range(ln):\n",
        "    lls.append(input())\n",
        "for _ in range(sn):\n",
        "    sls.append(input())\n",
        "for k in lls:\n",
        "    if k in sls:\n",
        "        n += 1\n",
        "        result.append(k)\n",
        "result.sort()\n",
        "print(n)\n",
        "for i in result:\n",
        "    print(i)"
      ]
    }
  ]
}