{
  "nbformat": 4,
  "nbformat_minor": 0,
  "metadata": {
    "colab": {
      "name": "baekjoon_1032.ipynb",
      "provenance": []
    },
    "kernelspec": {
      "name": "python3",
      "display_name": "Python 3"
    },
    "language_info": {
      "name": "python"
    }
  },
  "cells": [
    {
      "cell_type": "code",
      "execution_count": 11,
      "metadata": {
        "colab": {
          "base_uri": "https://localhost:8080/"
        },
        "id": "q6k-_8jUFw7K",
        "outputId": "5b17dd5c-a8b3-41f9-beba-18e2325e7756"
      },
      "outputs": [
        {
          "output_type": "stream",
          "name": "stdout",
          "text": [
            "4\n",
            "a\n",
            "a\n",
            "b\n",
            "b\n",
            "?\n"
          ]
        }
      ],
      "source": [
        "num = int(input())\n",
        "txt = ''\n",
        "le = 0\n",
        "for i in range(num):\n",
        "    txt += input()\n",
        "    if i == 0:\n",
        "        le = len(txt)\n",
        "tar_ls = [True] * le\n",
        "for k in range(le):\n",
        "    for j in range(1,num):\n",
        "        x = k + le * (j-1)\n",
        "        y = k + le * j\n",
        "        if txt[x] == txt[y]:\n",
        "            tar_ls[k] = True\n",
        "        else:\n",
        "            tar_ls[k] = False\n",
        "            break\n",
        "result = ''\n",
        "for n, q in zip(range(len(tar_ls)),tar_ls):\n",
        "    if q:\n",
        "        result += txt[n]\n",
        "    else:\n",
        "        result += '?'\n",
        "print(result)\n",
        "\n",
        "        "
      ]
    }
  ]
}