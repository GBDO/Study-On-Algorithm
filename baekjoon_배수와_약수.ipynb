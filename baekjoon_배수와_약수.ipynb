{
  "nbformat": 4,
  "nbformat_minor": 0,
  "metadata": {
    "colab": {
      "name": "baekjoon_배수와 약수.ipynb",
      "provenance": []
    },
    "kernelspec": {
      "name": "python3",
      "display_name": "Python 3"
    },
    "language_info": {
      "name": "python"
    }
  },
  "cells": [
    {
      "cell_type": "code",
      "execution_count": 11,
      "metadata": {
        "colab": {
          "base_uri": "https://localhost:8080/"
        },
        "id": "pKvrf6Rg8_5f",
        "outputId": "a0c8ce97-6357-4e39-edf6-18e151d64c46"
      },
      "outputs": [
        {
          "name": "stdout",
          "output_type": "stream",
          "text": [
            "0 0\n"
          ]
        }
      ],
      "source": [
        "while True:\n",
        "    x,y = input().split()\n",
        "    x = int(x)\n",
        "    y = int(y)\n",
        "    if x == 0 and y == 0:\n",
        "        break\n",
        "    elif y%x == 0:\n",
        "        print('factor')\n",
        "    elif x%y == 0:\n",
        "        print('multiple')\n",
        "\n",
        "    else:\n",
        "        print('neither')"
      ]
    }
  ]
}