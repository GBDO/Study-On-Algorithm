{
  "nbformat": 4,
  "nbformat_minor": 0,
  "metadata": {
    "colab": {
      "name": "baekjoon_2752.ipynb",
      "provenance": []
    },
    "kernelspec": {
      "name": "python3",
      "display_name": "Python 3"
    },
    "language_info": {
      "name": "python"
    }
  },
  "cells": [
    {
      "cell_type": "code",
      "execution_count": 8,
      "metadata": {
        "colab": {
          "base_uri": "https://localhost:8080/"
        },
        "id": "tismSY-7I53r",
        "outputId": "c8363446-b573-4958-bf1b-87183ddf4ee3"
      },
      "outputs": [
        {
          "output_type": "stream",
          "name": "stdout",
          "text": [
            "3 1 2\n",
            "1 2 3 \n"
          ]
        }
      ],
      "source": [
        "ls = input().split()\n",
        "for t in range(3):\n",
        "    ls[t] = int(ls[t])\n",
        "for i in range(2):\n",
        "    for k in range(2):\n",
        "        if ls[k] > ls[k+1]:\n",
        "            x = ls[k]\n",
        "            y = ls[k+1]\n",
        "            ls[k+1] = x\n",
        "            ls[k] = y\n",
        "result = ''\n",
        "for j in range(3):\n",
        "    result += str(ls[j]) + ' '\n",
        "print(result)"
      ]
    }
  ]
}