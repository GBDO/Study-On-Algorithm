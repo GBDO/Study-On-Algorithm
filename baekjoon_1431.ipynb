{
  "nbformat": 4,
  "nbformat_minor": 0,
  "metadata": {
    "colab": {
      "name": "baekjoon_1431.ipynb",
      "provenance": []
    },
    "kernelspec": {
      "name": "python3",
      "display_name": "Python 3"
    },
    "language_info": {
      "name": "python"
    }
  },
  "cells": [
    {
      "cell_type": "code",
      "source": [
        "num = int(input())\n",
        "lss = []\n",
        "\n",
        "for i in range(num):\n",
        "    lss.append(input())\n",
        "\n",
        "lss.sort(key = lambda x : (len(x), sum(int(a) for a in x if a.isdigit()), x))\n",
        "\n",
        "for g in lss:\n",
        "    print(g)"
      ],
      "metadata": {
        "colab": {
          "base_uri": "https://localhost:8080/"
        },
        "id": "hRMfvYOef2DT",
        "outputId": "e7e12139-baf5-4ff8-d694-c6d6b4c3fa72"
      },
      "execution_count": 1,
      "outputs": [
        {
          "output_type": "stream",
          "name": "stdout",
          "text": [
            "2\n",
            "Z12\n",
            "Z54\n",
            "Z12\n",
            "Z54\n"
          ]
        }
      ]
    }
  ]
}