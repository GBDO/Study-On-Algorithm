{
  "nbformat": 4,
  "nbformat_minor": 0,
  "metadata": {
    "colab": {
      "name": "baekjoon_15965.ipynb",
      "provenance": []
    },
    "kernelspec": {
      "name": "python3",
      "display_name": "Python 3"
    },
    "language_info": {
      "name": "python"
    }
  },
  "cells": [
    {
      "cell_type": "code",
      "execution_count": 1,
      "metadata": {
        "colab": {
          "base_uri": "https://localhost:8080/"
        },
        "id": "gDxSIcka95jf",
        "outputId": "624b5883-321f-4ad1-a8f0-1d5607390f4a"
      },
      "outputs": [
        {
          "output_type": "stream",
          "name": "stdout",
          "text": [
            "1\n",
            "2\n"
          ]
        }
      ],
      "source": [
        "INF = 10**7\n",
        "li = [1]*INF\n",
        "for i in range(2, int(INF**0.5)+1):\n",
        "    if li[i]:\n",
        "        for j in range(i+i, INF, i):\n",
        "            li[j] = 0\n",
        "prime = [i for i in range(2, INF) if li[i]]\n",
        "K = int(input())\n",
        "print(prime[K-1])  "
      ]
    }
  ]
}