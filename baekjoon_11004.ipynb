{
  "nbformat": 4,
  "nbformat_minor": 0,
  "metadata": {
    "colab": {
      "name": "baekjoon_11004.ipynb",
      "provenance": []
    },
    "kernelspec": {
      "name": "python3",
      "display_name": "Python 3"
    },
    "language_info": {
      "name": "python"
    }
  },
  "cells": [
    {
      "cell_type": "code",
      "execution_count": 1,
      "metadata": {
        "colab": {
          "base_uri": "https://localhost:8080/"
        },
        "id": "mLPoW_aetnfp",
        "outputId": "7d40e016-9b07-4750-c780-9eb911a0c164"
      },
      "outputs": [
        {
          "output_type": "stream",
          "name": "stdout",
          "text": [
            "5 2\n",
            "4 1 2 3 5\n",
            "2\n"
          ]
        }
      ],
      "source": [
        "num, tn = map(int,input().split())\n",
        "ls = [0] * num\n",
        "for i, t in zip(range(num),map(int, input().split())):\n",
        "    ls[i] = t\n",
        "ls.sort()\n",
        "print(ls[tn-1])"
      ]
    }
  ]
}