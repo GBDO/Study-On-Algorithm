{
  "nbformat": 4,
  "nbformat_minor": 0,
  "metadata": {
    "colab": {
      "name": "baekjoon_10866_try_2.ipynb",
      "provenance": []
    },
    "kernelspec": {
      "name": "python3",
      "display_name": "Python 3"
    },
    "language_info": {
      "name": "python"
    }
  },
  "cells": [
    {
      "cell_type": "code",
      "execution_count": null,
      "metadata": {
        "id": "4L3rP4AsBNIc"
      },
      "outputs": [],
      "source": [
        "import sys\n",
        "from collections import deque\n",
        "\n",
        "N = int(sys.stdin.readline())\n",
        "\n",
        "dq = deque()\n",
        "\n",
        "def size():\n",
        "    return len(dq)\n",
        "\n",
        "def empty():\n",
        "    if len(dq) == 0:\n",
        "        return 1\n",
        "    else :\n",
        "        return 0\n",
        "\n",
        "for _ in range(N):\n",
        "    s = list(sys.stdin.readline().split())\n",
        "    \n",
        "    if s[0] == 'push_front':\n",
        "        dq.appendleft(s[1])\n",
        "    elif s[0] == 'push_back':\n",
        "        dq.append(s[1])\n",
        "    elif s[0] == 'pop_front':\n",
        "        if empty() == 1:\n",
        "            print(\"-1\")\n",
        "        else:\n",
        "            tmp = dq.popleft()\n",
        "            print(tmp)\n",
        "    elif s[0] == 'pop_back':\n",
        "        if empty() == 1:\n",
        "            print(\"-1\")\n",
        "        else:\n",
        "            tmp = dq.pop()\n",
        "            print(tmp)\n",
        "    elif s[0] == 'front':\n",
        "        if empty() == 1:\n",
        "            print(\"-1\")\n",
        "        else:\n",
        "            print(dq[0])\n",
        "    elif s[0] == 'back':\n",
        "        if empty() == 1:\n",
        "            print(\"-1\")\n",
        "        else:\n",
        "            print(dq[len(dq)-1])\n",
        "    elif s[0] == 'size':\n",
        "        print(size())\n",
        "    elif s[0] == 'empty':\n",
        "        print(empty())\n"
      ]
    }
  ]
}