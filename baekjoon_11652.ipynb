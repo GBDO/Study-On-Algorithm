{
  "nbformat": 4,
  "nbformat_minor": 0,
  "metadata": {
    "colab": {
      "name": "baekjoon_11652.ipynb",
      "provenance": []
    },
    "kernelspec": {
      "name": "python3",
      "display_name": "Python 3"
    },
    "language_info": {
      "name": "python"
    }
  },
  "cells": [
    {
      "cell_type": "code",
      "execution_count": 3,
      "metadata": {
        "colab": {
          "base_uri": "https://localhost:8080/"
        },
        "id": "P-0wy-ODg6Ys",
        "outputId": "a7da3ddb-351a-421e-b4cf-abd6044441b2"
      },
      "outputs": [
        {
          "output_type": "stream",
          "name": "stdout",
          "text": [
            "6\n",
            "1\n",
            "2\n",
            "1\n",
            "2\n",
            "1\n",
            "2\n",
            "1\n"
          ]
        }
      ],
      "source": [
        "import sys\n",
        "num = int(sys.stdin.readline())\n",
        "ls = []\n",
        "dic = {}\n",
        "for _ in range(num):\n",
        "    x = sys.stdin.readline()\n",
        "    ls.append(x)\n",
        "    if x in dic.keys():\n",
        "        dic[x] += 1\n",
        "    else:\n",
        "        dic[x] = 1\n",
        "keys = list(set(ls))\n",
        "max = 0\n",
        "dap = 0\n",
        "for k in keys:\n",
        "    if max < dic[k]:\n",
        "        max = dic[k]\n",
        "        dap = int(k)\n",
        "    elif max == dic[k]:\n",
        "        if dap < int(k):\n",
        "            pass\n",
        "        elif dap > int(k):\n",
        "            dap = int(k)\n",
        "    else:\n",
        "        pass\n",
        "print(dap)"
      ]
    }
  ]
}