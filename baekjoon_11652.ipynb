{
  "nbformat": 4,
  "nbformat_minor": 0,
  "metadata": {
    "colab": {
      "name": "baekjoon_11652.ipynb",
      "provenance": []
    },
    "kernelspec": {
      "name": "python3",
      "display_name": "Python 3"
    },
    "language_info": {
      "name": "python"
    }
  },
  "cells": [
    {
      "cell_type": "code",
      "execution_count": 1,
      "metadata": {
        "colab": {
          "base_uri": "https://localhost:8080/"
        },
        "id": "P-0wy-ODg6Ys",
        "outputId": "2e75ecf4-eb62-4519-d545-21ee24c1962b"
      },
      "outputs": [
        {
          "output_type": "stream",
          "name": "stdout",
          "text": [
            "5\n",
            "1\n",
            "2\n",
            "1\n",
            "2\n",
            "1\n",
            "1\n"
          ]
        }
      ],
      "source": [
        "num = int(input())\n",
        "ls = []\n",
        "for i in range(num):\n",
        "    ls.append(int(input()))\n",
        "keys = list(set(ls))\n",
        "max = 0\n",
        "dap = 0\n",
        "for k in map(int,keys):\n",
        "    if max < ls.count(k):\n",
        "        max = ls.count(k)\n",
        "        dap = k\n",
        "    elif max == ls.count(k):\n",
        "        if dap < k:\n",
        "            pass\n",
        "        elif dap > k:\n",
        "            dap = k\n",
        "    else:\n",
        "        pass\n",
        "print(dap)"
      ]
    }
  ]
}