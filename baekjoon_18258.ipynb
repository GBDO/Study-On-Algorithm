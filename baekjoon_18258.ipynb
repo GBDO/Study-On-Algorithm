{
  "nbformat": 4,
  "nbformat_minor": 0,
  "metadata": {
    "colab": {
      "name": "baekjoon_18258.ipynb",
      "provenance": []
    },
    "kernelspec": {
      "name": "python3",
      "display_name": "Python 3"
    },
    "language_info": {
      "name": "python"
    }
  },
  "cells": [
    {
      "cell_type": "code",
      "execution_count": null,
      "metadata": {
        "id": "uWVRqapXMmY3"
      },
      "outputs": [],
      "source": [
        "from collections import deque\n",
        "import sys\n",
        "\n",
        "N = int(input())\n",
        "queue = deque()\n",
        "for i in range(N):\n",
        "    command = list(sys.stdin.readline().split())\n",
        "    size = len(queue)\n",
        "    if command[0].__contains__(\"push\"):\n",
        "        queue.append(int(command[1]))\n",
        "    elif command[0] == \"pop\":\n",
        "        if queue:\n",
        "            print(queue.popleft())\n",
        "        else:\n",
        "            print(-1)\n",
        "    elif command[0] == \"size\":\n",
        "        print(size)\n",
        "    elif command[0] == \"empty\":\n",
        "        print(0) if size != 0 else print(1)\n",
        "    elif command[0] == \"front\":\n",
        "        print(queue[0]) if queue else print(-1)\n",
        "    elif command[0] == \"back\":\n",
        "        print(queue[-1]) if queue else print(-1)"
      ]
    }
  ]
}