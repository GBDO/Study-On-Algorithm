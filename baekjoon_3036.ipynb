{
  "nbformat": 4,
  "nbformat_minor": 0,
  "metadata": {
    "colab": {
      "name": "baekjoon_3036.ipynb",
      "provenance": []
    },
    "kernelspec": {
      "name": "python3",
      "display_name": "Python 3"
    },
    "language_info": {
      "name": "python"
    }
  },
  "cells": [
    {
      "cell_type": "code",
      "execution_count": null,
      "metadata": {
        "id": "zp6pXIdkbOLg"
      },
      "outputs": [],
      "source": [
        "def gcd(a, b):\n",
        "    while(b != 0):\n",
        "        n = a%b\n",
        "        a = b\n",
        "        b = n\n",
        "    return a\n",
        "\n",
        "n = int(input())\n",
        "li = list(map(int, input().split()))\n",
        "for i in range(1, n):\n",
        "    g = gcd(li[0], li[i])\n",
        "    print('{0}/{1}'.format(li[0]//g, li[i]//g))"
      ]
    }
  ]
}