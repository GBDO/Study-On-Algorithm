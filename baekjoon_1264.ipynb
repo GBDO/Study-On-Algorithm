{
  "nbformat": 4,
  "nbformat_minor": 0,
  "metadata": {
    "colab": {
      "name": "baekjoon_1264.ipynb",
      "provenance": []
    },
    "kernelspec": {
      "name": "python3",
      "display_name": "Python 3"
    },
    "language_info": {
      "name": "python"
    }
  },
  "cells": [
    {
      "cell_type": "code",
      "execution_count": 9,
      "metadata": {
        "colab": {
          "base_uri": "https://localhost:8080/"
        },
        "id": "RvZ2JVMYBoCJ",
        "outputId": "0d170937-7db9-405e-cf3d-745375600c89"
      },
      "outputs": [
        {
          "name": "stdout",
          "output_type": "stream",
          "text": [
            "I live at number twenty four.\n",
            "9\n",
            "I live at number twenty four.\n",
            "9\n",
            "Quite well, thank you, how about yourself?\n",
            "14\n",
            "How are you today?\n",
            "7\n",
            "#\n"
          ]
        }
      ],
      "source": [
        "al = ['a', 'e', 'i', 'o', 'u']\n",
        "n = 0\n",
        "while True:\n",
        "    n = 0\n",
        "    ls = []\n",
        "    txt = input().lower()\n",
        "    if txt == '#':\n",
        "        break \n",
        "    for i in range(len(txt)):\n",
        "        if txt[i] in al:\n",
        "            n += 1\n",
        "        else:\n",
        "            pass\n",
        "    print(n)"
      ]
    }
  ]
}