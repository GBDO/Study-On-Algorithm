{
  "nbformat": 4,
  "nbformat_minor": 0,
  "metadata": {
    "colab": {
      "name": "baekjoon_2805_try_1.ipynb",
      "provenance": []
    },
    "kernelspec": {
      "name": "python3",
      "display_name": "Python 3"
    },
    "language_info": {
      "name": "python"
    }
  },
  "cells": [
    {
      "cell_type": "code",
      "execution_count": null,
      "metadata": {
        "colab": {
          "base_uri": "https://localhost:8080/"
        },
        "id": "RuJ_0X-c4Vtn",
        "outputId": "a90c1b95-abd4-471b-88de-68d3c1ddc55c"
      },
      "outputs": [
        {
          "output_type": "stream",
          "name": "stdout",
          "text": [
            "4 7\n",
            "20 15 10 17\n",
            "-1\n"
          ]
        }
      ],
      "source": [
        "n, tarl = map(int, input().split())\n",
        "ls = map(int, input().split())\n",
        "left, right = 0, max(ls)\n",
        "while left <= right:\n",
        "    med = (right + left)//2\n",
        "    leng = 0\n",
        "    # 가져가게 될 나무 구하기\n",
        "    for k in ls:\n",
        "        if k > med:\n",
        "            leng += (k - med)\n",
        "    # 도출된 나무 길이와 목표 나무 길이 비교\n",
        "    if leng == tarl:\n",
        "        break\n",
        "    elif leng > tarl: # 목표보다 많이 자름\n",
        "        left = med + 1\n",
        "    else: # 목표보다 적게 자름\n",
        "        right = med - 1\n",
        "print(right)"
      ]
    }
  ]
}