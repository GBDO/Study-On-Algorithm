{
  "nbformat": 4,
  "nbformat_minor": 0,
  "metadata": {
    "colab": {
      "name": "baekjoon_1406_try_1.ipynb",
      "provenance": []
    },
    "kernelspec": {
      "name": "python3",
      "display_name": "Python 3"
    },
    "language_info": {
      "name": "python"
    }
  },
  "cells": [
    {
      "cell_type": "code",
      "execution_count": 4,
      "metadata": {
        "colab": {
          "base_uri": "https://localhost:8080/"
        },
        "id": "ncc7AfbA4rCy",
        "outputId": "18bb4083-139f-410a-b4ef-8942b050685f"
      },
      "outputs": [
        {
          "output_type": "stream",
          "name": "stdout",
          "text": [
            "abcd\n",
            "3\n",
            "P x\n",
            "L\n",
            "P y\n",
            "abcdxy\n"
          ]
        }
      ],
      "source": [
        "i = str(input())\n",
        "inp = list(i)\n",
        "rep = int(input())\n",
        "curs = len(inp)\n",
        "for _ in range(rep):\n",
        "    x = input().split()\n",
        "    if len(x) == 2:\n",
        "        cm, st = x\n",
        "        st = str(st)\n",
        "    else :\n",
        "        cm = x\n",
        "    if cm == 'P':\n",
        "        if curs==(len(inp)):\n",
        "            inp.append(st)\n",
        "            curs = curs + 1\n",
        "        else:\n",
        "            inp.insert(curs, st)\n",
        "            curs = curs + 1\n",
        "    elif cm == 'D':\n",
        "        if curs == (len(inp)):\n",
        "            pass\n",
        "        else:\n",
        "            curs = curs + 1\n",
        "    elif cm == 'B':\n",
        "        if curs == 0:\n",
        "            pass\n",
        "        else:\n",
        "            inp.remove(curs-1)\n",
        "            curs = curs - 1\n",
        "    elif cm == 'L':\n",
        "        if curs == 0:\n",
        "            pass\n",
        "        else:\n",
        "            curs = curs - 1\n",
        "print(''.join(inp))"
      ]
    }
  ]
}