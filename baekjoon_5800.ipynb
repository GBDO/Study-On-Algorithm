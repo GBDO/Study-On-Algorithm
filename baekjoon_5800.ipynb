{
  "nbformat": 4,
  "nbformat_minor": 0,
  "metadata": {
    "colab": {
      "name": "baekjoon_5800.ipynb",
      "provenance": []
    },
    "kernelspec": {
      "name": "python3",
      "display_name": "Python 3"
    },
    "language_info": {
      "name": "python"
    }
  },
  "cells": [
    {
      "cell_type": "code",
      "execution_count": 15,
      "metadata": {
        "colab": {
          "base_uri": "https://localhost:8080/"
        },
        "id": "PJU4skYpT5Rn",
        "outputId": "b85654af-e68d-4d3e-cbb4-afb4fe6ef393"
      },
      "outputs": [
        {
          "output_type": "stream",
          "name": "stdout",
          "text": [
            "2\n",
            "6 25 50 70 99 70 90\n",
            "Class 1\n",
            "Max 99, Min 25, Largest gap 25\n",
            "5 30 25 76 23 78\n",
            "Class 2\n",
            "Max 78, Min 23, Largest gap 46\n"
          ]
        }
      ],
      "source": [
        "num = int(input())\n",
        "for i in range(num):\n",
        "    ls = []\n",
        "    ls = input().split()[1:]\n",
        "    gapls = [0] * (len(ls)-1)\n",
        "    for j in range(len(ls)):\n",
        "        ls[j] = int(ls[j])\n",
        "    ls.sort(reverse= True)\n",
        "    for k in range(len(ls)-1):\n",
        "        gapls[k] = ls[k] - ls[k+1]\n",
        "    fst = int(max(ls))\n",
        "    sst = max(gapls)\n",
        "    lst = int(min(ls))\n",
        "    print(f'Class {int(i)+1}')\n",
        "    print(f'Max {fst}, Min {lst}, Largest gap {sst}')"
      ]
    }
  ]
}