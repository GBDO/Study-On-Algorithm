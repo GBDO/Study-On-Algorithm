{
  "nbformat": 4,
  "nbformat_minor": 0,
  "metadata": {
    "colab": {
      "name": "baekjoon_2751.ipynb",
      "provenance": []
    },
    "kernelspec": {
      "name": "python3",
      "display_name": "Python 3"
    },
    "language_info": {
      "name": "python"
    }
  },
  "cells": [
    {
      "cell_type": "code",
      "execution_count": 6,
      "metadata": {
        "colab": {
          "base_uri": "https://localhost:8080/"
        },
        "id": "oQ7f39a2zr0P",
        "outputId": "f1bd692d-f67e-47be-f1a0-186a13dc396b"
      },
      "outputs": [
        {
          "output_type": "stream",
          "name": "stdout",
          "text": [
            "5\n",
            "4\n",
            "4\n",
            "3\n",
            "2\n",
            "1\n",
            "1\n",
            "2\n",
            "3\n",
            "4\n",
            "4\n"
          ]
        }
      ],
      "source": [
        "num = int(input())\n",
        "ls = [0]*num\n",
        "for i in range(num):\n",
        "    ls[i] = int(input())\n",
        "ls.sort()\n",
        "for i in range(num):\n",
        "    print(ls[i])"
      ]
    }
  ]
}