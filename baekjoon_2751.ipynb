{
  "nbformat": 4,
  "nbformat_minor": 0,
  "metadata": {
    "colab": {
      "name": "baekjoon_2751.ipynb",
      "provenance": []
    },
    "kernelspec": {
      "name": "python3",
      "display_name": "Python 3"
    },
    "language_info": {
      "name": "python"
    }
  },
  "cells": [
    {
      "cell_type": "code",
      "execution_count": null,
      "metadata": {
        "id": "oQ7f39a2zr0P"
      },
      "outputs": [],
      "source": [
        "import sys\n",
        "num = int(sys.stdin.readline())\n",
        "ls = [0] * num\n",
        "for i in range(num):\n",
        "    ls[i] = int(sys.stdin.readline())\n",
        "ls.sort()\n",
        "for i in range(num):\n",
        "    print(ls[i])"
      ]
    }
  ]
}