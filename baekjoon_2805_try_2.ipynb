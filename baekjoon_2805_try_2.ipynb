{
  "nbformat": 4,
  "nbformat_minor": 0,
  "metadata": {
    "colab": {
      "name": "baekjoon_2805_try_2.ipynb",
      "provenance": []
    },
    "kernelspec": {
      "name": "python3",
      "display_name": "Python 3"
    },
    "language_info": {
      "name": "python"
    }
  },
  "cells": [
    {
      "cell_type": "code",
      "execution_count": 1,
      "metadata": {
        "colab": {
          "base_uri": "https://localhost:8080/"
        },
        "id": "RzFhl5GSCLbh",
        "outputId": "e5e5ad30-c73c-4110-ba9f-18d439ef8a7d"
      },
      "outputs": [
        {
          "output_type": "stream",
          "name": "stdout",
          "text": [
            "4 7\n",
            "20 15 10 17\n",
            "15\n"
          ]
        }
      ],
      "source": [
        "N, M = map(int,input().split()) \n",
        "trees = list(map(int, input().split()))\n",
        "\n",
        "start, end = 0, max(trees) \n",
        "\n",
        "while start <= end:\n",
        "    mid = (start+end)//2\n",
        "    tree = 0 \n",
        "    for i in trees:\n",
        "        if i > mid: \n",
        "            tree += i - mid\n",
        "\n",
        "    if tree >= M: \n",
        "        start = mid + 1\n",
        "    else: \n",
        "        end = mid - 1\n",
        "print(end)"
      ]
    }
  ]
}