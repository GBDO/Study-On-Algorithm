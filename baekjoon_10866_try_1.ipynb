{
  "nbformat": 4,
  "nbformat_minor": 0,
  "metadata": {
    "colab": {
      "name": "baekjoon_10866_try_1.ipynb",
      "provenance": []
    },
    "kernelspec": {
      "name": "python3",
      "display_name": "Python 3"
    },
    "language_info": {
      "name": "python"
    }
  },
  "cells": [
    {
      "cell_type": "code",
      "execution_count": 4,
      "metadata": {
        "colab": {
          "base_uri": "https://localhost:8080/"
        },
        "id": "j_SJjlWX8pH1",
        "outputId": "f5a5eb05-23dc-4103-d7ec-a00e387d7c01"
      },
      "outputs": [
        {
          "output_type": "stream",
          "name": "stdout",
          "text": [
            "2\n",
            "1\n",
            "2\n",
            "0\n",
            "2\n",
            "1\n",
            "-1\n",
            "0\n",
            "1\n",
            "-1\n",
            "0\n",
            "3\n"
          ]
        }
      ],
      "source": [
        "from collections import deque\n",
        "\n",
        "#ls = ['push_back 1','push_front 2','front','back','size','empty','pop_front','pop_back','pop_front','size','empty','pop_back','push_front 3','empty','front']\n",
        "rep = int(input())\n",
        "que = deque()\n",
        "for t in range(rep):\n",
        "    cm=list(input().split())\n",
        "    if len(cm) == 2:\n",
        "        cm, num = cm[0], cm[1]\n",
        "    else:\n",
        "        cm = cm[0]\n",
        "    \n",
        "    if cm == 'push_front':\n",
        "        que.insert(0,num)\n",
        "    elif cm == 'push_back':\n",
        "        que.append(num)\n",
        "    elif cm == 'pop_front':\n",
        "        if len(que) == 0:\n",
        "            print(-1)\n",
        "        else:\n",
        "            x = que.popleft()\n",
        "            print(x)\n",
        "    elif cm == 'pop_back':\n",
        "        if len(que) == 0:\n",
        "            print(-1)\n",
        "        else:\n",
        "            x = que.pop()\n",
        "            print(x)\n",
        "    elif cm == 'size':\n",
        "        x = len(que)\n",
        "        print(x)\n",
        "    elif cm == 'empty':\n",
        "        if len(que) == 0:\n",
        "            print(1)\n",
        "        else:\n",
        "            print(0)\n",
        "    elif cm == 'front':\n",
        "        if len(que) == 0:\n",
        "            print(-1)\n",
        "        else:\n",
        "            print(que[0])\n",
        "    elif cm == 'back':\n",
        "        if len(que) == 0:\n",
        "            print(-1)\n",
        "        else:\n",
        "            print(que[-1])"
      ]
    }
  ]
}