{
  "nbformat": 4,
  "nbformat_minor": 0,
  "metadata": {
    "colab": {
      "name": "baekjoon_11866_try_1.ipynb",
      "provenance": []
    },
    "kernelspec": {
      "name": "python3",
      "display_name": "Python 3"
    },
    "language_info": {
      "name": "python"
    }
  },
  "cells": [
    {
      "cell_type": "code",
      "execution_count": 23,
      "metadata": {
        "colab": {
          "base_uri": "https://localhost:8080/"
        },
        "id": "hDZ59f8MWTDq",
        "outputId": "35bb7a3f-1b75-4d42-9f4b-759523bd958a"
      },
      "outputs": [
        {
          "output_type": "stream",
          "name": "stdout",
          "text": [
            "7 3\n",
            "<3, 6, 2, 7, 5, 1, 4>\n"
          ]
        }
      ],
      "source": [
        "num, nth = map(int, input().split())\n",
        "ls = [x for x in range(1,(num+1))]\n",
        "result = '<'\n",
        "nth -= 1\n",
        "for _ in range(num):\n",
        "    if len(ls) == 1:\n",
        "        result += str(ls[0]) + '>'\n",
        "    else:\n",
        "        result += str(ls[nth])+', '\n",
        "    del ls[nth]\n",
        "    nth += 2\n",
        "    while nth > len(ls)-1:\n",
        "        if len(ls) == 0:\n",
        "            print(result)\n",
        "            break\n",
        "        elif len(ls) == 1:\n",
        "            nth = 0\n",
        "        elif nth > len(ls)-1:\n",
        "            nth -= len(ls)\n",
        "    "
      ]
    }
  ]
}