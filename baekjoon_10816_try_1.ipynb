{
  "nbformat": 4,
  "nbformat_minor": 0,
  "metadata": {
    "colab": {
      "name": "baekjoon_10816_try_1.ipynb",
      "provenance": []
    },
    "kernelspec": {
      "name": "python3",
      "display_name": "Python 3"
    },
    "language_info": {
      "name": "python"
    }
  },
  "cells": [
    {
      "cell_type": "code",
      "execution_count": null,
      "metadata": {
        "id": "i50kkBjvyitN"
      },
      "outputs": [],
      "source": [
        "num1 = int(input())\n",
        "inp = list(map(int,input().split()))\n",
        "num2 = int(input())\n",
        "tar = list(map(int,input().split()))\n",
        "inp.sort()\n",
        "ls = [0]*num2\n",
        "for i, k in zip(range(len(tar)),tar):\n",
        "    for j in inp:\n",
        "        if k == j:\n",
        "            if ls[i] > 0:\n",
        "                ls[i] += 1\n",
        "            else:\n",
        "                ls[i] = 1\n",
        "        else:\n",
        "            pass\n",
        "for n in ls:\n",
        "    print(n,end=' ')"
      ]
    }
  ]
}