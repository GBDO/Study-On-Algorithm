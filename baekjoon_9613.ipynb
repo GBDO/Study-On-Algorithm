{
  "nbformat": 4,
  "nbformat_minor": 0,
  "metadata": {
    "colab": {
      "name": "baekjoon_9613.ipynb",
      "provenance": []
    },
    "kernelspec": {
      "name": "python3",
      "display_name": "Python 3"
    },
    "language_info": {
      "name": "python"
    }
  },
  "cells": [
    {
      "cell_type": "code",
      "execution_count": 1,
      "metadata": {
        "colab": {
          "base_uri": "https://localhost:8080/"
        },
        "id": "gzOu8WBxAvD6",
        "outputId": "5a2ea670-eb75-4e24-9e15-fa8539142587"
      },
      "outputs": [
        {
          "output_type": "stream",
          "name": "stdout",
          "text": [
            "4\n",
            "4 10 20 30 40\n",
            "70\n",
            "3 7 5 12\n",
            "3\n",
            "3 125 15 25\n",
            "35\n",
            "3 125 15 25\n",
            "35\n"
          ]
        }
      ],
      "source": [
        "n = int(input())\n",
        "\n",
        "\n",
        "def gcd(a, b) :\n",
        "    if b==0:\n",
        "        return a\n",
        "    else :\n",
        "        return gcd(b,a%b)\n",
        "\n",
        "\n",
        "for _ in range(n):\n",
        "    arr = list(map(int,input().split()))\n",
        "    k = arr.pop(0)\n",
        "    sum = 0\n",
        "    for i in range(k):\n",
        "        for j in range(k):\n",
        "            if i<j :\n",
        "                sum += gcd(arr[i],arr[j])\n",
        "    print(sum)"
      ]
    }
  ]
}