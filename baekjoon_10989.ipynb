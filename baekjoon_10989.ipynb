{
  "nbformat": 4,
  "nbformat_minor": 0,
  "metadata": {
    "colab": {
      "name": "baekjoon_10989.ipynb",
      "provenance": []
    },
    "kernelspec": {
      "name": "python3",
      "display_name": "Python 3"
    },
    "language_info": {
      "name": "python"
    }
  },
  "cells": [
    {
      "cell_type": "code",
      "execution_count": null,
      "metadata": {
        "id": "Kod0zX9d7IOn"
      },
      "outputs": [],
      "source": [
        "import sys\n",
        "num = int(sys.stdin.readline())\n",
        "ls = [0] * 10001\n",
        "for i in range(num):\n",
        "    tn = int(sys.stdin.readline())\n",
        "    ls[tn] += 1\n",
        "for j in range(10001):\n",
        "    if ls[j] != 0:\n",
        "        for _ in range(ls[j]):\n",
        "            print(int(j))"
      ]
    }
  ]
}