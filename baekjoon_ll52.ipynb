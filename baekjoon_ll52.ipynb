{
  "nbformat": 4,
  "nbformat_minor": 0,
  "metadata": {
    "colab": {
      "name": "baekjoon_ll52.ipynb",
      "provenance": []
    },
    "kernelspec": {
      "name": "python3",
      "display_name": "Python 3"
    },
    "language_info": {
      "name": "python"
    }
  },
  "cells": [
    {
      "cell_type": "code",
      "execution_count": 1,
      "metadata": {
        "colab": {
          "base_uri": "https://localhost:8080/"
        },
        "id": "X0uT8muF7-Zc",
        "outputId": "116ccfcc-408c-4430-fccc-338c300c165d"
      },
      "outputs": [
        {
          "output_type": "stream",
          "name": "stdout",
          "text": [
            "The Curious Case of Benjamin Button\n",
            "6\n"
          ]
        }
      ],
      "source": [
        "tar = input()\n",
        "x=len(tar.split())\n",
        "print(x)"
      ]
    }
  ]
}