{
  "nbformat": 4,
  "nbformat_minor": 0,
  "metadata": {
    "colab": {
      "name": "baekjoon_2960.ipynb",
      "provenance": []
    },
    "kernelspec": {
      "name": "python3",
      "display_name": "Python 3"
    },
    "language_info": {
      "name": "python"
    }
  },
  "cells": [
    {
      "cell_type": "code",
      "execution_count": 1,
      "metadata": {
        "colab": {
          "base_uri": "https://localhost:8080/"
        },
        "id": "bqf3rmpSgo-c",
        "outputId": "74ef82aa-ce18-483b-b6c9-699674ccfe91"
      },
      "outputs": [
        {
          "output_type": "stream",
          "name": "stdout",
          "text": [
            "7 3\n",
            "6\n"
          ]
        }
      ],
      "source": [
        "N, K = map(int, input().split())\n",
        "tmp = 0\n",
        "sieve = [True] * (N + 1)\n",
        "for i in range(2, N + 1):\n",
        "    for j in range(i, N + 1, i):\n",
        "        if sieve[j] != False:\n",
        "            sieve[j] = False\n",
        "            tmp += 1\n",
        "            if tmp == K:\n",
        "                print(j)"
      ]
    }
  ]
}