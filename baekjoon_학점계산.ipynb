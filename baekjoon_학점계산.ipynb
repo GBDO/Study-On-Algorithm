{
  "nbformat": 4,
  "nbformat_minor": 0,
  "metadata": {
    "colab": {
      "name": "baekjoon_학점계산.ipynb",
      "provenance": []
    },
    "kernelspec": {
      "name": "python3",
      "display_name": "Python 3"
    },
    "language_info": {
      "name": "python"
    }
  },
  "cells": [
    {
      "cell_type": "code",
      "execution_count": 4,
      "metadata": {
        "colab": {
          "base_uri": "https://localhost:8080/"
        },
        "id": "Dfe-5MmyeqSm",
        "outputId": "bc32b600-62e8-4e23-ce44-517ddf730156"
      },
      "outputs": [
        {
          "output_type": "stream",
          "name": "stdout",
          "text": [
            "A0\n",
            "4.0\n"
          ]
        }
      ],
      "source": [
        "x = input()\n",
        "if len(x) == 1:\n",
        "    m1 = x\n",
        "elif len(x) == 2:\n",
        "    m1 = x[0]\n",
        "    m2 = x[1]\n",
        "score = 0.0\n",
        "if m1 == 'A':\n",
        "    score = score + 4.0\n",
        "elif m1 == 'B':\n",
        "    score = score + 3.0\n",
        "elif m1 == 'C':\n",
        "    score = score + 2.0\n",
        "elif m1 == 'D':\n",
        "    score = score + 1.0\n",
        "elif m1 == 'F':\n",
        "    score = score\n",
        "if 'm2' in locals():\n",
        "    if m2 == '+':\n",
        "        score = score + 0.3\n",
        "    elif m2 == '-':\n",
        "        score = score - 0.3\n",
        "\n",
        "\n",
        "print(score)"
      ]
    }
  ]
}