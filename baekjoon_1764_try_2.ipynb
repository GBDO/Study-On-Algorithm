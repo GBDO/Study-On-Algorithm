{
  "nbformat": 4,
  "nbformat_minor": 0,
  "metadata": {
    "colab": {
      "name": "baekjoon_1764_try_2.ipynb",
      "provenance": []
    },
    "kernelspec": {
      "name": "python3",
      "display_name": "Python 3"
    },
    "language_info": {
      "name": "python"
    }
  },
  "cells": [
    {
      "cell_type": "code",
      "execution_count": 1,
      "metadata": {
        "colab": {
          "base_uri": "https://localhost:8080/"
        },
        "id": "VUJPxaGPuuZR",
        "outputId": "f698652d-2409-453e-d5ec-0d492ffe6b7b"
      },
      "outputs": [
        {
          "output_type": "stream",
          "name": "stdout",
          "text": [
            "3 4\n",
            "ohhenrie\n",
            "charlie\n",
            "baesangwook\n",
            "obama\n",
            "baesangwook\n",
            "ohhenrie\n",
            "clinton\n",
            "2\n",
            "baesangwook\n",
            "ohhenrie\n"
          ]
        }
      ],
      "source": [
        "ln, sn = map(int, input().split())\n",
        "lls = []\n",
        "sls = []\n",
        "result = []\n",
        "for _ in range(ln):\n",
        "    lls.append(input())\n",
        "for _ in range(sn):\n",
        "    sls.append(input())\n",
        "sls.sort()\n",
        "for k in lls:\n",
        "    left, right = 0, (len(sls)-1)\n",
        "    while left <= right:\n",
        "        mid = (left + right)//2\n",
        "        if k == sls[mid]:\n",
        "            result.append(k)\n",
        "            break\n",
        "        elif k > sls[mid]:\n",
        "            left = mid + 1\n",
        "        elif k < sls[mid]:\n",
        "            right = mid - 1\n",
        "print(len(result))\n",
        "result.sort()\n",
        "for i in result:\n",
        "    print(i)"
      ]
    }
  ]
}