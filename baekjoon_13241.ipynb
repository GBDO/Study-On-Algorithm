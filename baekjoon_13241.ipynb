{
  "nbformat": 4,
  "nbformat_minor": 0,
  "metadata": {
    "colab": {
      "name": "baekjoon_13241.ipynb",
      "provenance": []
    },
    "kernelspec": {
      "name": "python3",
      "display_name": "Python 3"
    },
    "language_info": {
      "name": "python"
    }
  },
  "cells": [
    {
      "cell_type": "code",
      "execution_count": 1,
      "metadata": {
        "colab": {
          "base_uri": "https://localhost:8080/"
        },
        "id": "EqKmd8ya_qYE",
        "outputId": "153c3c5f-5b5d-4de3-9a09-1226718ec037"
      },
      "outputs": [
        {
          "output_type": "stream",
          "name": "stdout",
          "text": [
            "1 1\n",
            "1\n"
          ]
        }
      ],
      "source": [
        "a,b = map(int, input().split())\n",
        "\n",
        "def gcd(a,b):\n",
        "    while b:\n",
        "        mod = b\n",
        "        b= a%b\n",
        "        a = mod\n",
        "    return a\n",
        "print(a*b//gcd(a,b))"
      ]
    }
  ]
}