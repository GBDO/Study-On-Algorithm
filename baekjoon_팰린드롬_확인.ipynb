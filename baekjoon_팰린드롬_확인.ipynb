{
  "nbformat": 4,
  "nbformat_minor": 0,
  "metadata": {
    "colab": {
      "name": "baekjoon_팰린드롬_확인.ipynb",
      "provenance": []
    },
    "kernelspec": {
      "name": "python3",
      "display_name": "Python 3"
    },
    "language_info": {
      "name": "python"
    }
  },
  "cells": [
    {
      "cell_type": "code",
      "execution_count": 16,
      "metadata": {
        "colab": {
          "base_uri": "https://localhost:8080/"
        },
        "id": "sNb4xQZv7ZU1",
        "outputId": "f948cb6b-5423-400b-b6d2-ee34fd05bd49"
      },
      "outputs": [
        {
          "output_type": "stream",
          "name": "stdout",
          "text": [
            "101010\n",
            "0\n"
          ]
        }
      ],
      "source": [
        "x = input()\n",
        "y = 0\n",
        "t = 0\n",
        "for i in range(len(x)-1, -1, -1):\n",
        "    if x[i] == x[t]:\n",
        "        y = 1\n",
        "    else:\n",
        "        y = 0\n",
        "        break\n",
        "    t += 1\n",
        "\n",
        "print(int(y))"
      ]
    }
  ]
}