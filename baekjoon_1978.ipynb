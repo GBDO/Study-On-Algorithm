{
  "nbformat": 4,
  "nbformat_minor": 0,
  "metadata": {
    "colab": {
      "name": "baekjoon_1978.ipynb",
      "provenance": []
    },
    "kernelspec": {
      "name": "python3",
      "display_name": "Python 3"
    },
    "language_info": {
      "name": "python"
    }
  },
  "cells": [
    {
      "cell_type": "code",
      "execution_count": 1,
      "metadata": {
        "colab": {
          "base_uri": "https://localhost:8080/"
        },
        "id": "xDwessNq5Bqu",
        "outputId": "12bd1bb7-1648-4761-89e7-37d3bf9ad31a"
      },
      "outputs": [
        {
          "output_type": "stream",
          "name": "stdout",
          "text": [
            "4\n",
            "1 3 5 7\n",
            "3\n"
          ]
        }
      ],
      "source": [
        "su = int(input())\n",
        "a = list(map(int, input().split()))\n",
        "\n",
        "a = a[0:su]\n",
        "count = 0\n",
        "cnt = 0\n",
        "for i in a :\n",
        "    for j in range(1, i + 1):\n",
        "        if i % j == 0:\n",
        "            cnt += 1\n",
        "\n",
        "    if cnt == 2:\n",
        "        count += 1\n",
        "    cnt = 0\n",
        "\n",
        "print(count)"
      ]
    }
  ]
}