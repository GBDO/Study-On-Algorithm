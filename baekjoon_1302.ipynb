{
  "nbformat": 4,
  "nbformat_minor": 0,
  "metadata": {
    "colab": {
      "name": "baekjoon_1302.ipynb",
      "provenance": [],
      "collapsed_sections": []
    },
    "kernelspec": {
      "name": "python3",
      "display_name": "Python 3"
    },
    "language_info": {
      "name": "python"
    }
  },
  "cells": [
    {
      "cell_type": "code",
      "execution_count": 9,
      "metadata": {
        "colab": {
          "base_uri": "https://localhost:8080/"
        },
        "id": "NUoVtRe9DCZ4",
        "outputId": "1efdfce2-7af5-4f6c-c514-566bdbace782"
      },
      "outputs": [
        {
          "output_type": "stream",
          "name": "stdout",
          "text": [
            "2\n",
            "b\n",
            "a\n",
            "a\n"
          ]
        }
      ],
      "source": [
        "from collections import Counter\n",
        "num = int(input())\n",
        "ls = [input() for _ in range(num)]\n",
        "cnt = Counter(ls)\n",
        "tar = cnt.most_common()\n",
        "tar.sort(key = lambda x: (-x[1],x[0]))\n",
        "print(str(tar[0][0]))"
      ]
    }
  ]
}