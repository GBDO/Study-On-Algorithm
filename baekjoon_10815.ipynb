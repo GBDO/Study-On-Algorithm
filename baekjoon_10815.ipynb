{
  "nbformat": 4,
  "nbformat_minor": 0,
  "metadata": {
    "colab": {
      "name": "baekjoon_10815.ipynb",
      "provenance": []
    },
    "kernelspec": {
      "name": "python3",
      "display_name": "Python 3"
    },
    "language_info": {
      "name": "python"
    }
  },
  "cells": [
    {
      "cell_type": "code",
      "execution_count": 7,
      "metadata": {
        "colab": {
          "base_uri": "https://localhost:8080/"
        },
        "id": "CMzkkUZRbn_b",
        "outputId": "d36781aa-3a9d-46d6-ad85-3448e8468f76"
      },
      "outputs": [
        {
          "output_type": "stream",
          "name": "stdout",
          "text": [
            "5\n",
            "6 3 2 10 -10\n",
            "8\n",
            "10 9 -5 2 3 4 5 -10\n",
            "1 0 0 1 1 0 0 1 "
          ]
        }
      ],
      "source": [
        "num1= int(input())\n",
        "inp = list(map(int,input().split()))\n",
        "b = int(input())\n",
        "tar = list(map(int,input().split()))\n",
        "dic = {}\n",
        "for i in inp:\n",
        "    dic[i] = True\n",
        "for i in tar:\n",
        "    if i in dic:\n",
        "        print(1,end=' ')\n",
        "    else:\n",
        "        print(0,end=' ')"
      ]
    }
  ]
}