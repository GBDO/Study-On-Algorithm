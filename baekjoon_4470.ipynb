{
  "nbformat": 4,
  "nbformat_minor": 0,
  "metadata": {
    "colab": {
      "name": "baekjoon_4470.ipynb",
      "provenance": []
    },
    "kernelspec": {
      "name": "python3",
      "display_name": "Python 3"
    },
    "language_info": {
      "name": "python"
    }
  },
  "cells": [
    {
      "cell_type": "code",
      "execution_count": 5,
      "metadata": {
        "colab": {
          "base_uri": "https://localhost:8080/"
        },
        "id": "Ii0wnZf0ioSm",
        "outputId": "e194eca0-fa9f-438e-99d9-9c7587631cb5"
      },
      "outputs": [
        {
          "output_type": "stream",
          "name": "stdout",
          "text": [
            "5\n",
            "Lionel Cosgrove\n",
            "1. Lionel Cosgrove\n",
            "Alice\n",
            "2. Alice\n",
            "Columbus and Tallahassee\n",
            "3. Columbus and Tallahassee\n",
            "Shaun and Ed\n",
            "4. Shaun and Ed\n",
            "Fido\n",
            "5. Fido\n"
          ]
        }
      ],
      "source": [
        "num = int(input())\n",
        "for i in range(num):\n",
        "    txt = input()\n",
        "    line = \"\"\n",
        "    line += str(i+1)+\". \"\n",
        "    line += txt\n",
        "    print(line)"
      ]
    }
  ]
}