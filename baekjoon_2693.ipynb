{
  "nbformat": 4,
  "nbformat_minor": 0,
  "metadata": {
    "colab": {
      "name": "baekjoon_2693.ipynb",
      "provenance": []
    },
    "kernelspec": {
      "name": "python3",
      "display_name": "Python 3"
    },
    "language_info": {
      "name": "python"
    }
  },
  "cells": [
    {
      "cell_type": "code",
      "execution_count": 7,
      "metadata": {
        "colab": {
          "base_uri": "https://localhost:8080/"
        },
        "id": "mA86oeEK-Lwi",
        "outputId": "05219f84-4429-4c5a-fff3-4dbda4f97f25"
      },
      "outputs": [
        {
          "output_type": "stream",
          "name": "stdout",
          "text": [
            "1\n",
            "338 304 619 95 343 496 489 116 98 127\n",
            "489\n"
          ]
        }
      ],
      "source": [
        "import heapq\n",
        "num = int(input())\n",
        "for _ in range(num):\n",
        "    heap = []\n",
        "    ls = list(map(int, input().split()))\n",
        "    for i in ls:\n",
        "        if len(heap) < 3:\n",
        "            heapq.heappush(heap,i)\n",
        "        elif heap[0]<i:\n",
        "            heapq.heappop(heap)\n",
        "            heapq.heappush(heap, i)\n",
        "    print(heap[0])"
      ]
    }
  ]
}