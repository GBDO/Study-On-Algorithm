{
  "nbformat": 4,
  "nbformat_minor": 0,
  "metadata": {
    "colab": {
      "name": "baekjoon_10814.ipynb",
      "provenance": []
    },
    "kernelspec": {
      "name": "python3",
      "display_name": "Python 3"
    },
    "language_info": {
      "name": "python"
    }
  },
  "cells": [
    {
      "cell_type": "code",
      "execution_count": 4,
      "metadata": {
        "colab": {
          "base_uri": "https://localhost:8080/"
        },
        "id": "TL2MZaY9UlTT",
        "outputId": "5570f707-6451-4db7-b92c-b53fda20ad19"
      },
      "outputs": [
        {
          "output_type": "stream",
          "name": "stdout",
          "text": [
            "3\n",
            "21 Junkyu\n",
            "21 Dohyun\n",
            "20 Sunyoung\n",
            "20 Sunyoung\n",
            "21 Junkyu\n",
            "21 Dohyun\n"
          ]
        }
      ],
      "source": [
        "num = int(input())\n",
        "full = []\n",
        "for k in range(num):\n",
        "    full.append(f'{k} {input()}')\n",
        "full.sort(key = lambda x : (int(x.split()[1]), int(x.split()[0]) ))\n",
        "for i in range(num):\n",
        "    x = full[i].split()\n",
        "    print(f'{x[1]} {x[2]}')"
      ]
    }
  ]
}