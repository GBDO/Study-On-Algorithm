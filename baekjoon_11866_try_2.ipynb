{
  "nbformat": 4,
  "nbformat_minor": 0,
  "metadata": {
    "colab": {
      "name": "baekjoon_11866_try_2.ipynb",
      "provenance": []
    },
    "kernelspec": {
      "name": "python3",
      "display_name": "Python 3"
    },
    "language_info": {
      "name": "python"
    }
  },
  "cells": [
    {
      "cell_type": "code",
      "execution_count": null,
      "metadata": {
        "id": "eSFoqLJWt-Ig"
      },
      "outputs": [],
      "source": [
        "import sys\n",
        "\n",
        "n, k = map(int, sys.stdin.readline().split())\n",
        "\n",
        "queue = [i for i in range(1, n + 1)]\n",
        "temp = []\n",
        "index = 0 \n",
        "\n",
        "while queue:\n",
        "    index += k - 1\n",
        "\n",
        "\n",
        "    if index >= len(queue):\n",
        "        index %= len(queue)\n",
        "\n",
        "    temp.append(str(queue.pop(index)))\n",
        "\n",
        "print(\"<\", \", \".join(temp), \">\", sep=\"\")\n"
      ]
    }
  ]
}