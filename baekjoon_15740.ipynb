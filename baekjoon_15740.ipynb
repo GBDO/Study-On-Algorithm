{
  "nbformat": 4,
  "nbformat_minor": 0,
  "metadata": {
    "colab": {
      "name": "baekjoon_15740.ipynb",
      "provenance": []
    },
    "kernelspec": {
      "name": "python3",
      "display_name": "Python 3"
    },
    "language_info": {
      "name": "python"
    }
  },
  "cells": [
    {
      "cell_type": "code",
      "execution_count": 3,
      "metadata": {
        "colab": {
          "base_uri": "https://localhost:8080/"
        },
        "id": "gEMgxmJtApBG",
        "outputId": "40a2e0f2-a31a-49bf-ed14-5e08224ea323"
      },
      "outputs": [
        {
          "output_type": "stream",
          "name": "stdout",
          "text": [
            "123456789123456789123456789 987654321987654321987654321\n",
            "1111111111111111111111111110\n"
          ]
        }
      ],
      "source": [
        "x, y = map(int,input().split())\n",
        "print(x + y)"
      ]
    }
  ]
}