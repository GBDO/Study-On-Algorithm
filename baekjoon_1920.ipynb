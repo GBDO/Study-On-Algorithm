{
  "nbformat": 4,
  "nbformat_minor": 0,
  "metadata": {
    "colab": {
      "name": "baekjoon_1920.ipynb",
      "provenance": []
    },
    "kernelspec": {
      "name": "python3",
      "display_name": "Python 3"
    },
    "language_info": {
      "name": "python"
    }
  },
  "cells": [
    {
      "cell_type": "code",
      "execution_count": 3,
      "metadata": {
        "colab": {
          "base_uri": "https://localhost:8080/"
        },
        "id": "THLmHaKPRKVn",
        "outputId": "2230f627-1e6a-4e00-b88f-b1fcd505080d"
      },
      "outputs": [
        {
          "output_type": "stream",
          "name": "stdout",
          "text": [
            "5\n",
            "4 1 5 2 3\n",
            "5\n",
            "1 3 7 9 5\n",
            "1\n",
            "1\n",
            "1\n",
            "1\n",
            "0\n"
          ]
        }
      ],
      "source": [
        "num1 = int(input())\n",
        "exp = list(map(int,input().split()))\n",
        "num2 = int(input())\n",
        "tar = list(map(int,input().split()))\n",
        "exp.sort()\n",
        "for k in tar:\n",
        "    left, right = 0, len(exp) - 1\n",
        "    is_find = False\n",
        "\n",
        "    while True:\n",
        "        median = (left + right) // 2\n",
        "        if k == exp[median]:\n",
        "            print(1)\n",
        "            is_find = True\n",
        "            break\n",
        "        elif k > exp[median]:\n",
        "            left = median + 1\n",
        "        elif k < exp[median]:\n",
        "            right = median - 1\n",
        "        \n",
        "        if left > right:\n",
        "            break\n",
        "    if not is_find:\n",
        "        print(0)"
      ]
    }
  ]
}