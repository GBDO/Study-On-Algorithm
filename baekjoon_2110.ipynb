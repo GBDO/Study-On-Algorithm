{
  "nbformat": 4,
  "nbformat_minor": 0,
  "metadata": {
    "colab": {
      "name": "baekjoon_2110.ipynb",
      "provenance": []
    },
    "kernelspec": {
      "name": "python3",
      "display_name": "Python 3"
    },
    "language_info": {
      "name": "python"
    }
  },
  "cells": [
    {
      "cell_type": "code",
      "execution_count": null,
      "metadata": {
        "id": "gG-LFyweDN9A"
      },
      "outputs": [],
      "source": [
        "home, share = map(int, input().split())\n",
        "ls = [int(input()) for _ in range(home)]\n",
        "ls.sort()\n",
        "\n",
        "def binary():\n",
        "    left = 1\n",
        "    right = max(ls) - 1\n",
        "\n",
        "    while left <= right:\n",
        "        mid = (left + right) // 2\n",
        "\n",
        "        count = 1\n",
        "        wifi = min(ls) + mid\n",
        "\n",
        "        for i in range(1, len(ls)):\n",
        "            if wifi <= ls[i]:\n",
        "                count += 1\n",
        "                wifi = ls[i] + mid\n",
        "\n",
        "        if count >= share:\n",
        "            left = mid + 1\n",
        "        elif count < share:\n",
        "            right = mid -1\n",
        "    return right\n",
        "\n",
        "print(binary())"
      ]
    }
  ]
}