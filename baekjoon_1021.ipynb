{
  "nbformat": 4,
  "nbformat_minor": 0,
  "metadata": {
    "colab": {
      "name": "baekjoon_1021.ipynb",
      "provenance": []
    },
    "kernelspec": {
      "name": "python3",
      "display_name": "Python 3"
    },
    "language_info": {
      "name": "python"
    }
  },
  "cells": [
    {
      "cell_type": "code",
      "execution_count": null,
      "metadata": {
        "id": "WSn7V3SI7y4R"
      },
      "outputs": [],
      "source": [
        "from collections import deque\n",
        "import sys\n",
        "input = sys.stdin.readline\n",
        "\n",
        "n, m = map(int, input().split())   \n",
        "position = list(map(int, input().split()))  \n",
        "dq = deque([i for i in range(1, n+1)]) \n",
        "\n",
        "count = 0   \n",
        "for i in position: \n",
        "    while True:     \n",
        "        if dq[0] == i: \n",
        "            dq.popleft()\n",
        "            break\n",
        "        else:\n",
        "            if dq.index(i) < len(dq)/2:  \n",
        "                while dq[0] != i:  \n",
        "                    dq.append(dq.popleft())  \n",
        "                    count += 1\n",
        "            else:  \n",
        "                while dq[0] != i:\n",
        "                    dq.appendleft(dq.pop())  \n",
        "                    count += 1\n",
        "print(count)"
      ]
    }
  ]
}