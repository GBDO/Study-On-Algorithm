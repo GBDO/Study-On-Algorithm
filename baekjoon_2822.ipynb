{
  "nbformat": 4,
  "nbformat_minor": 0,
  "metadata": {
    "colab": {
      "name": "baekjoon_2822.ipynb",
      "provenance": []
    },
    "kernelspec": {
      "name": "python3",
      "display_name": "Python 3"
    },
    "language_info": {
      "name": "python"
    }
  },
  "cells": [
    {
      "cell_type": "code",
      "execution_count": 5,
      "metadata": {
        "colab": {
          "base_uri": "https://localhost:8080/"
        },
        "id": "LQwO7gmGN6ca",
        "outputId": "78f693ad-bb53-4b74-fb20-c869cf81edb5"
      },
      "outputs": [
        {
          "output_type": "stream",
          "name": "stdout",
          "text": [
            "20\n",
            "30\n",
            "50\n",
            "48\n",
            "33\n",
            "66\n",
            "0\n",
            "64\n",
            "0\n",
            "261\n",
            "3 4 5 6 8 "
          ]
        }
      ],
      "source": [
        "ls = []\n",
        "sum = 0\n",
        "result = []\n",
        "for k in range(8):\n",
        "    x = int(input())\n",
        "    ls.append([x,k+1])\n",
        "ls.sort(key = lambda x : -x[0])\n",
        "for i in range(5):\n",
        "    sum += ls[i][0]\n",
        "    result.append(ls[i][1])\n",
        "print(sum)\n",
        "result.sort()\n",
        "for i in range(5):\n",
        "    print(result[i],end=' ')"
      ]
    }
  ]
}