{
  "nbformat": 4,
  "nbformat_minor": 0,
  "metadata": {
    "colab": {
      "name": "baekjoon_Yangjojang of The Year.ipynb",
      "provenance": []
    },
    "kernelspec": {
      "name": "python3",
      "display_name": "Python 3"
    },
    "language_info": {
      "name": "python"
    }
  },
  "cells": [
    {
      "cell_type": "code",
      "execution_count": 2,
      "metadata": {
        "colab": {
          "base_uri": "https://localhost:8080/"
        },
        "id": "fpwgiFHCEloB",
        "outputId": "a55bd7fd-3794-4435-bc01-c28d105dda7a"
      },
      "outputs": [
        {
          "output_type": "stream",
          "name": "stdout",
          "text": [
            "2\n",
            "3\n",
            "Yonsei 10\n",
            "Korea 10000000\n",
            "Ewha 20\n",
            "Korea\n",
            "2\n",
            "Yonsei 1\n",
            "Korea 10000000\n",
            "Korea\n"
          ]
        }
      ],
      "source": [
        "t = int(input())\n",
        "for _ in range(t):\n",
        "    s_n = int(input())\n",
        "    lsname = ' '\n",
        "    lsnum = 0\n",
        "    for _ in range(s_n):\n",
        "        sname, num = input().split()\n",
        "        num = int(num)\n",
        "        if lsname == ' ':\n",
        "            lsname = sname\n",
        "            lsnum = num\n",
        "        else:\n",
        "            if lsnum < num:\n",
        "                lsname = sname\n",
        "                lsnum = num\n",
        "            else:\n",
        "                pass\n",
        "    print(lsname)"
      ]
    }
  ]
}