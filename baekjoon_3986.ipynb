{
  "nbformat": 4,
  "nbformat_minor": 0,
  "metadata": {
    "colab": {
      "name": "baekjoon_3986.ipynb",
      "provenance": []
    },
    "kernelspec": {
      "name": "python3",
      "display_name": "Python 3"
    },
    "language_info": {
      "name": "python"
    }
  },
  "cells": [
    {
      "cell_type": "code",
      "execution_count": 2,
      "metadata": {
        "colab": {
          "base_uri": "https://localhost:8080/"
        },
        "id": "IaIQxtTjEPv5",
        "outputId": "249c28d3-7f16-44b7-8738-2393595dd665"
      },
      "outputs": [
        {
          "output_type": "stream",
          "name": "stdout",
          "text": [
            "3\n",
            "ABAB\n",
            "['A']\n",
            "['A', 'B']\n",
            "['A', 'B', 'A']\n",
            "['A', 'B', 'A', 'B']\n",
            "AABB\n",
            "['A']\n",
            "[]\n",
            "['B']\n",
            "[]\n",
            "ABBA\n",
            "['A']\n",
            "['A', 'B']\n",
            "['A']\n",
            "[]\n",
            "2\n"
          ]
        }
      ],
      "source": [
        "def check(word):\n",
        "    temp = []\n",
        "    for i in range(len(word)):\n",
        "        if temp and temp[-1] == word[i]: # 전에 나온 글자와 현재 글자가 같은 경우 pop\n",
        "            temp.pop()\n",
        "            print(temp)\n",
        "        else:\n",
        "            temp.append(word[i]) # 전에 나온 글자와 현재 글자가 다른 경우 append\n",
        "            print(temp)\n",
        "    if not temp: # temp에 글자가 남아있지 않다는 것은 글자들이 문제의 조건을 맞게 쌍을 이룬다\n",
        "        return True\n",
        "    else:\n",
        "        return False\n",
        "\n",
        "\n",
        "n = int(input())\n",
        "result = 0\n",
        "\n",
        "for _ in range(n):\n",
        "    data = input()\n",
        "    if check(data):\n",
        "        result += 1\n",
        "\n",
        "print(result)"
      ]
    }
  ]
}