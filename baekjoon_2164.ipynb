{
  "nbformat": 4,
  "nbformat_minor": 0,
  "metadata": {
    "colab": {
      "name": "baekjoon_2164.ipynb",
      "provenance": []
    },
    "kernelspec": {
      "name": "python3",
      "display_name": "Python 3"
    },
    "language_info": {
      "name": "python"
    }
  },
  "cells": [
    {
      "cell_type": "code",
      "execution_count": 9,
      "metadata": {
        "colab": {
          "base_uri": "https://localhost:8080/"
        },
        "id": "JQZ_eptvNfFX",
        "outputId": "db642bbd-6211-427f-f26c-056265514c56"
      },
      "outputs": [
        {
          "output_type": "stream",
          "name": "stdout",
          "text": [
            "6\n",
            "deque([3, 4, 5, 6, 2])\n",
            "deque([5, 6, 2, 4])\n",
            "deque([2, 4, 6])\n",
            "deque([6, 4])\n",
            "deque([4])\n",
            "4\n"
          ]
        }
      ],
      "source": [
        "from collections import deque\n",
        "inp = int(input())\n",
        "que = deque(range(1,(inp+1)))\n",
        "while len(que) != 1:\n",
        "    que.popleft()\n",
        "    x = que.popleft()\n",
        "    que.append(x)\n",
        "print(que.pop())"
      ]
    }
  ]
}