{
  "nbformat": 4,
  "nbformat_minor": 0,
  "metadata": {
    "colab": {
      "name": "baekjoon_1929.ipynb",
      "provenance": []
    },
    "kernelspec": {
      "name": "python3",
      "display_name": "Python 3"
    },
    "language_info": {
      "name": "python"
    }
  },
  "cells": [
    {
      "cell_type": "code",
      "execution_count": 1,
      "metadata": {
        "colab": {
          "base_uri": "https://localhost:8080/"
        },
        "id": "Kvc0VwKJrvsu",
        "outputId": "ef2ed2ae-5e7d-45b0-eae1-de46f4cb1b99"
      },
      "outputs": [
        {
          "output_type": "stream",
          "name": "stdout",
          "text": [
            "3 16\n",
            "3\n",
            "5\n",
            "7\n",
            "11\n",
            "13\n"
          ]
        }
      ],
      "source": [
        "def isPrime(num):\n",
        "    if num==1:\n",
        "        return False\n",
        "    else:\n",
        "        for i in range(2, int(num**0.5)+1):\n",
        "            if num%i == 0:\n",
        "                return False\n",
        "        return True\n",
        "\n",
        "M, N = map(int, input().split())\n",
        "\n",
        "for i in range(M, N+1):\n",
        "    if isPrime(i):\n",
        "        print(i)"
      ]
    }
  ]
}