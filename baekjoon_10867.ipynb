{
  "nbformat": 4,
  "nbformat_minor": 0,
  "metadata": {
    "colab": {
      "name": "baekjoon_10867.ipynb",
      "provenance": []
    },
    "kernelspec": {
      "name": "python3",
      "display_name": "Python 3"
    },
    "language_info": {
      "name": "python"
    }
  },
  "cells": [
    {
      "cell_type": "code",
      "execution_count": 2,
      "metadata": {
        "colab": {
          "base_uri": "https://localhost:8080/"
        },
        "id": "WHksErJgTCsR",
        "outputId": "bcf17cd3-1ce4-421b-ba66-d8596a8d24e9"
      },
      "outputs": [
        {
          "output_type": "stream",
          "name": "stdout",
          "text": [
            "10\n",
            "1 4 2 3 1 4 2 3 1 2\n",
            "1 2 3 4 "
          ]
        }
      ],
      "source": [
        "ln = input()\n",
        "ls = list(map(int,input().split()))\n",
        "ls = list(set(ls))\n",
        "ls.sort()\n",
        "for i in ls:\n",
        "    print(i,end = ' ')"
      ]
    }
  ]
}