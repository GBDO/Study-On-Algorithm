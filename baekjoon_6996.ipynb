{
  "nbformat": 4,
  "nbformat_minor": 0,
  "metadata": {
    "colab": {
      "name": "baekjoon_6996.ipynb",
      "provenance": []
    },
    "kernelspec": {
      "name": "python3",
      "display_name": "Python 3"
    },
    "language_info": {
      "name": "python"
    }
  },
  "cells": [
    {
      "cell_type": "code",
      "execution_count": 20,
      "metadata": {
        "colab": {
          "base_uri": "https://localhost:8080/"
        },
        "id": "avS4K-HqkULM",
        "outputId": "5073ed8c-0414-4a39-8a79-3f94aaa09840"
      },
      "outputs": [
        {
          "output_type": "stream",
          "name": "stdout",
          "text": [
            "3\n",
            "blather reblath\n",
            "blather & reblath are anagrams.\n",
            "maryland landam\n",
            "maryland & landam are NOT anagrams.\n",
            "bizarre brazier\n",
            "bizarre & brazier are anagrams.\n"
          ]
        }
      ],
      "source": [
        "num = int(input())\n",
        "for _ in range(num):\n",
        "    x , y = input().split()\n",
        "    xls = [] * len(x)\n",
        "    yls = [] * len(y)\n",
        "    for i in range(len(x)):\n",
        "        xls.append(x[i])\n",
        "    for j in range(len(y)):\n",
        "        yls.append(y[j])\n",
        "    xls.sort()\n",
        "    yls.sort()\n",
        "    if xls == yls: \n",
        "        print(f'{x} & {y} are anagrams.')\n",
        "    else:\n",
        "        print(f'{x} & {y} are NOT anagrams.')"
      ]
    }
  ]
}