{
  "nbformat": 4,
  "nbformat_minor": 0,
  "metadata": {
    "colab": {
      "name": "backjoon_2512.ipynb",
      "provenance": []
    },
    "kernelspec": {
      "name": "python3",
      "display_name": "Python 3"
    },
    "language_info": {
      "name": "python"
    }
  },
  "cells": [
    {
      "cell_type": "code",
      "execution_count": 11,
      "metadata": {
        "colab": {
          "base_uri": "https://localhost:8080/"
        },
        "id": "zN7uuWJ_PzPt",
        "outputId": "4fabea29-70f2-438a-e8f4-e6120c2ad89f"
      },
      "outputs": [
        {
          "output_type": "stream",
          "name": "stdout",
          "text": [
            "4\n",
            "120 110 140 150\n",
            "485\n",
            "128\n"
          ]
        }
      ],
      "source": [
        "n = int(input())\n",
        "ls = list(map(int,input().split()))\n",
        "lim = int(input())\n",
        "left = 1\n",
        "right = max(ls)\n",
        "while left <= right:\n",
        "    sum = 0\n",
        "    mid = (left + right)//2\n",
        "\n",
        "    for k in ls:\n",
        "        if k >= mid:\n",
        "            sum += mid\n",
        "        elif k < mid:\n",
        "            sum += k\n",
        "    if sum <= lim:\n",
        "        left = mid + 1\n",
        "    elif sum > lim:\n",
        "        right = mid - 1\n",
        "print(right)"
      ]
    }
  ]
}