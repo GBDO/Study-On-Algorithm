{
  "nbformat": 4,
  "nbformat_minor": 0,
  "metadata": {
    "colab": {
      "name": "baekjoon_2675.ipynb",
      "provenance": []
    },
    "kernelspec": {
      "name": "python3",
      "display_name": "Python 3"
    },
    "language_info": {
      "name": "python"
    }
  },
  "cells": [
    {
      "cell_type": "code",
      "execution_count": 4,
      "metadata": {
        "colab": {
          "base_uri": "https://localhost:8080/"
        },
        "id": "V3hlCJWswI-v",
        "outputId": "07b56b13-ffe2-4edf-c5ea-eb4a2e9cc7fe"
      },
      "outputs": [
        {
          "output_type": "stream",
          "name": "stdout",
          "text": [
            "2\n",
            "3 ABC\n",
            "AAABBBCCC\n",
            "5 /HTP\n",
            "/////HHHHHTTTTTPPPPP\n"
          ]
        }
      ],
      "source": [
        "num = int(input())\n",
        "for _ in range(num):\n",
        "    x, y = input().split()\n",
        "    ls = []\n",
        "    result = ''\n",
        "    for i in range(len(y)):\n",
        "        ls.append(y[i])\n",
        "        result += ls[i] * int(x)\n",
        "    print(result)"
      ]
    }
  ]
}