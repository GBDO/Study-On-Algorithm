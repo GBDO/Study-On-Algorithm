{
  "nbformat": 4,
  "nbformat_minor": 0,
  "metadata": {
    "colab": {
      "name": "baekjoon_16401.ipynb",
      "provenance": []
    },
    "kernelspec": {
      "name": "python3",
      "display_name": "Python 3"
    },
    "language_info": {
      "name": "python"
    }
  },
  "cells": [
    {
      "cell_type": "code",
      "execution_count": 6,
      "metadata": {
        "colab": {
          "base_uri": "https://localhost:8080/"
        },
        "id": "NW9i3uRXrHNt",
        "outputId": "d1267541-133b-4d08-e909-09d8b8f74c5b"
      },
      "outputs": [
        {
          "output_type": "stream",
          "name": "stdout",
          "text": [
            "4 3\n",
            "10 10 15\n",
            "7\n"
          ]
        }
      ],
      "source": [
        "import sys\n",
        "input = sys.stdin.readline\n",
        "pn, sn = map(int, input().split())\n",
        "ls = list(map(int,input().split()))\n",
        "left = 1 # 0으로 시작하면 zerodevisionError 발생\n",
        "right = max(ls)\n",
        "while left <= right:\n",
        "    count = 0\n",
        "    mid = (left + right)//2\n",
        "    for k in ls:\n",
        "        if k >= mid:\n",
        "            count += k//mid\n",
        "    if count >= pn:\n",
        "        left = mid + 1\n",
        "    elif count < pn:\n",
        "        right = mid - 1\n",
        "print(right)"
      ]
    }
  ]
}