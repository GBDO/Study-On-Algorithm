{
  "nbformat": 4,
  "nbformat_minor": 0,
  "metadata": {
    "colab": {
      "name": "baekjoon_7795_try_2.ipynb",
      "provenance": []
    },
    "kernelspec": {
      "name": "python3",
      "display_name": "Python 3"
    },
    "language_info": {
      "name": "python"
    }
  },
  "cells": [
    {
      "cell_type": "code",
      "execution_count": 1,
      "metadata": {
        "colab": {
          "base_uri": "https://localhost:8080/"
        },
        "id": "GRxutSZ7Dvzy",
        "outputId": "97f08ec6-dece-4f3b-994d-6956d1262263"
      },
      "outputs": [
        {
          "output_type": "stream",
          "name": "stdout",
          "text": [
            "2\n",
            "5 3\n",
            "8 1 7 3 1\n",
            "3 6 1\n",
            "7\n",
            "3 4\n",
            "2 13 7\n",
            "103 11 290 215\n",
            "1\n"
          ]
        }
      ],
      "source": [
        "t=int(input())\n",
        "for i in range(t):\n",
        "    sum=0\n",
        "    N,M=map(int, input().split())\n",
        "    A=list(map(int,input().split()))\n",
        "    B=list(map(int,input().split()))\n",
        "    A.sort(reverse=True) # 내림차순 정렬\n",
        "    B.sort(reverse=True) # 내림차순 정렬\n",
        "    a=0\n",
        "    b=0\n",
        "    n=len(A)\n",
        "    m=len(B)\n",
        "    while a < n and b < m: # n,m 범위 안에서 반복\n",
        "        if A[a] > B[b]: # A종의 크기가 B종의 크기보다 클 때\n",
        "            sum += m - b # b번째 B가 a번째 A보다 작을 때 b번째를 포함한 남은 물고기 개수는 m-b\n",
        "            a += 1\n",
        "        else:\n",
        "            b += 1\n",
        "        \n",
        "    print(sum)"
      ]
    }
  ]
}