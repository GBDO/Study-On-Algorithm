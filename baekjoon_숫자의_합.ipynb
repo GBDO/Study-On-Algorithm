{
  "nbformat": 4,
  "nbformat_minor": 0,
  "metadata": {
    "colab": {
      "name": "baekjoon_숫자의_합.ipynb",
      "provenance": []
    },
    "kernelspec": {
      "name": "python3",
      "display_name": "Python 3"
    },
    "language_info": {
      "name": "python"
    }
  },
  "cells": [
    {
      "cell_type": "code",
      "execution_count": 2,
      "metadata": {
        "colab": {
          "base_uri": "https://localhost:8080/"
        },
        "id": "4GYOjx_2TgAx",
        "outputId": "90e467b0-42f6-4fe8-ca5a-88e81d8d3856"
      },
      "outputs": [
        {
          "output_type": "stream",
          "name": "stdout",
          "text": [
            "5\n",
            "54321\n",
            "15\n"
          ]
        }
      ],
      "source": [
        "t = int(input())\n",
        "x = input()\n",
        "sum = 0\n",
        "for i in range(t):\n",
        "    sum = sum + int(x[i])\n",
        "print(int(sum))"
      ]
    }
  ]
}