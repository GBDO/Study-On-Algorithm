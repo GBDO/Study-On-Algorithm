{
  "nbformat": 4,
  "nbformat_minor": 0,
  "metadata": {
    "colab": {
      "name": "baekjoon_9012_try_1.ipynb",
      "provenance": []
    },
    "kernelspec": {
      "name": "python3",
      "display_name": "Python 3"
    },
    "language_info": {
      "name": "python"
    }
  },
  "cells": [
    {
      "cell_type": "code",
      "execution_count": null,
      "metadata": {
        "colab": {
          "base_uri": "https://localhost:8080/"
        },
        "id": "gBv-ifovIaZL",
        "outputId": "eed32cd1-ab43-47c9-e05b-74b70e5be524"
      },
      "outputs": [
        {
          "output_type": "stream",
          "name": "stdout",
          "text": [
            "3\n",
            "((\n",
            "NO\n",
            "))\n",
            "NO\n",
            "())(()\n",
            "NO\n"
          ]
        }
      ],
      "source": [
        "## Fail\n",
        "rep = int(input())\n",
        "tar = ''\n",
        "bef = 0\n",
        "aft = 0\n",
        "for _ in range(rep):\n",
        "    tar = str(input())\n",
        "    while True:\n",
        "        bef = len(tar)\n",
        "        tar = tar.replace('()','')\n",
        "        aft = len(tar)\n",
        "        if bef == aft and aft != 0:\n",
        "            print('NO')\n",
        "            break\n",
        "        elif aft == 0:\n",
        "            print('Yes')\n",
        "            break"
      ]
    }
  ]
}