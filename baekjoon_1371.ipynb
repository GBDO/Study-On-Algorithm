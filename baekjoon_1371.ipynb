{
  "nbformat": 4,
  "nbformat_minor": 0,
  "metadata": {
    "colab": {
      "name": "baekjoon_1371.ipynb",
      "provenance": []
    },
    "kernelspec": {
      "name": "python3",
      "display_name": "Python 3"
    },
    "language_info": {
      "name": "python"
    }
  },
  "cells": [
    {
      "cell_type": "code",
      "execution_count": 30,
      "metadata": {
        "colab": {
          "base_uri": "https://localhost:8080/"
        },
        "id": "STvTbfwXtyoV",
        "outputId": "9b3231a7-9616-4bb6-8575-b0e70217c0e2"
      },
      "outputs": [
        {
          "output_type": "stream",
          "name": "stdout",
          "text": [
            "abc\n",
            "ab\n",
            "ab\n"
          ]
        }
      ],
      "source": [
        "txt = ''\n",
        "while True:\n",
        "    try:\n",
        "        txt += input()             \n",
        "    except:\n",
        "        break\n",
        "al = ['a','b','c','d','e','f','g','h','i','j','k','l','m','n','o','p','q','r','s','t','u','v','w','x','y','z'] \n",
        "dic = {}\n",
        "t_ls = []\n",
        "tar = ''\n",
        "idx = ''\n",
        "for i in al:\n",
        "    dic[i] = 0\n",
        "for k in range(len(txt)):\n",
        "    t_ls.append(txt[k])\n",
        "for j in t_ls:\n",
        "    if j == ' ':\n",
        "        pass\n",
        "    elif dic[j] == 0:\n",
        "        dic[j] = 1\n",
        "    else:\n",
        "        dic[j] += 1\n",
        "for n in al:\n",
        "    if tar == '':\n",
        "        tar += n\n",
        "        idx = tar[0]\n",
        "    elif dic[idx] == dic[n]:\n",
        "        tar += n\n",
        "        idx = tar[0]\n",
        "    elif dic[idx] < dic[n]:\n",
        "        tar = n\n",
        "        idx = tar[0]\n",
        "print(tar)"
      ]
    }
  ]
}