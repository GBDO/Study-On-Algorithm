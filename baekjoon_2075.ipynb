{
  "nbformat": 4,
  "nbformat_minor": 0,
  "metadata": {
    "colab": {
      "name": "baekjoon_2075.ipynb",
      "provenance": []
    },
    "kernelspec": {
      "name": "python3",
      "display_name": "Python 3"
    },
    "language_info": {
      "name": "python"
    }
  },
  "cells": [
    {
      "cell_type": "code",
      "execution_count": 9,
      "metadata": {
        "colab": {
          "base_uri": "https://localhost:8080/"
        },
        "id": "YSpb9Xz81Ar7",
        "outputId": "3cf60b9a-8f35-4b9f-bd21-2db4784874ae"
      },
      "outputs": [
        {
          "output_type": "stream",
          "name": "stdout",
          "text": [
            "5\n",
            "12 7 9 15 5\n",
            "[12, 7, 9, 15, 5]\n",
            "13 8 11 19 6\n",
            "[6, 11, 13, 19, 15]\n",
            "21 10 26 31 16\n",
            "[16, 19, 21, 31, 26]\n",
            "48 14 28 35 25\n",
            "[25, 28, 48, 35, 31]\n",
            "52 20 32 41 49\n",
            "[35, 41, 48, 52, 49]\n",
            "35\n"
          ]
        }
      ],
      "source": [
        "import sys, heapq\n",
        "num = int(sys.stdin.readline())\n",
        "heap = []\n",
        "for i in range(num):\n",
        "    x = list(map(int, sys.stdin.readline().split()))\n",
        "    if len(heap) < num:\n",
        "        heap = x\n",
        "    else:\n",
        "        for k in x:\n",
        "            if heap[0] < k:\n",
        "                heapq.heappop(heap)\n",
        "                heapq.heappush(heap,k)\n",
        "print(heap[0])"
      ]
    }
  ]
}