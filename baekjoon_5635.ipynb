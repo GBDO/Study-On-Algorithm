{
  "nbformat": 4,
  "nbformat_minor": 0,
  "metadata": {
    "colab": {
      "name": "baekjoon_5635.ipynb",
      "provenance": []
    },
    "kernelspec": {
      "name": "python3",
      "display_name": "Python 3"
    },
    "language_info": {
      "name": "python"
    }
  },
  "cells": [
    {
      "cell_type": "code",
      "execution_count": 8,
      "metadata": {
        "colab": {
          "base_uri": "https://localhost:8080/"
        },
        "id": "7pUndDQCdhM4",
        "outputId": "c4393e7e-69d7-46cc-dcff-40c2e2f8b94d"
      },
      "outputs": [
        {
          "output_type": "stream",
          "name": "stdout",
          "text": [
            "5\n",
            "Mickey 1 10 1991\n",
            "Alice 30 12 1990\n",
            "Tom 15 8 1993\n",
            "Jerry 18 9 1990\n",
            "Garfield 20 9 1990\n",
            "Jerry\n",
            "Tom\n"
          ]
        }
      ],
      "source": [
        "num = int(input())\n",
        "ls = []\n",
        "for i in range(num):\n",
        "    [name,day,month,year] = input().split()\n",
        "    ls.append([name,int(day),int(month),int(year)])\n",
        "ls.sort(key = lambda x:(x[3],x[2],x[1]))\n",
        "print(ls[-1][0])\n",
        "print(ls[0][0])\n",
        "\n"
      ]
    }
  ]
}