{
  "nbformat": 4,
  "nbformat_minor": 0,
  "metadata": {
    "colab": {
      "name": "baekjoon_4458.ipynb",
      "provenance": []
    },
    "kernelspec": {
      "name": "python3",
      "display_name": "Python 3"
    },
    "language_info": {
      "name": "python"
    }
  },
  "cells": [
    {
      "cell_type": "code",
      "execution_count": 29,
      "metadata": {
        "colab": {
          "base_uri": "https://localhost:8080/"
        },
        "id": "NlNloBgaBXjg",
        "outputId": "87f7fa1c-0645-4161-e3a9-483781cac00c"
      },
      "outputs": [
        {
          "output_type": "stream",
          "name": "stdout",
          "text": [
            "5\n",
            "powdered Toast Man\n",
            "Powdered Toast Man\n",
            "skeletor\n",
            "Skeletor\n",
            "Electra Woman and Dyna Girl\n",
            "Electra Woman and Dyna Girl\n",
            "she-Ra Princess of Power\n",
            "She-Ra Princess of Power\n",
            "darth Vader\n",
            "Darth Vader\n"
          ]
        }
      ],
      "source": [
        "num = int(input())\n",
        "for _ in range(num):\n",
        "    vls = []\n",
        "    x = input().split()\n",
        "    for i in range(len(x)):\n",
        "        vls.append(x[i])\n",
        "    line = ''\n",
        "\n",
        "    word = vls[0]\n",
        "    vec = [' ']*len(word)\n",
        "    vec_u = ''\n",
        "    for k in range(len(word)):\n",
        "        if k == 0:\n",
        "            vec[k] = word[k].upper()\n",
        "        else:\n",
        "            vec[k] = word[k]\n",
        "    for k in range(len(vec)):\n",
        "        vec_u += str(vec[k])\n",
        "    line += vec_u \n",
        "    for i in range(1,len(vls),1):\n",
        "        line += ' '\n",
        "        line += vls[i]\n",
        "    print(line)"
      ]
    }
  ]
}