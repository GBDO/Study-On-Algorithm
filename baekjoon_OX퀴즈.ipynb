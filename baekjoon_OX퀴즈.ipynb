{
  "nbformat": 4,
  "nbformat_minor": 0,
  "metadata": {
    "colab": {
      "name": "baekjoon_OX퀴즈.ipynb",
      "provenance": []
    },
    "kernelspec": {
      "name": "python3",
      "display_name": "Python 3"
    },
    "language_info": {
      "name": "python"
    }
  },
  "cells": [
    {
      "cell_type": "code",
      "execution_count": 3,
      "metadata": {
        "colab": {
          "base_uri": "https://localhost:8080/"
        },
        "id": "pmIqCVlqA3YP",
        "outputId": "7e008141-6bb2-4f10-bc55-24c939d46491"
      },
      "outputs": [
        {
          "output_type": "stream",
          "name": "stdout",
          "text": [
            "5\n",
            "OOXXOOXXOO\n",
            "9\n",
            "OOXXOXXOOO\n",
            "10\n",
            "OXOXOXOXOXOXOX\n",
            "7\n",
            "OOOOOOOOOO\n",
            "55\n",
            "OOOOXOOOOXOOOOX\n",
            "30\n"
          ]
        }
      ],
      "source": [
        "n = int(input())\n",
        "for _ in range(n):\n",
        "    ls = input().split('X')\n",
        "    sum_ln = 0\n",
        "    for i in range(len(ls)):\n",
        "\n",
        "        ls[i].replace('X','')\n",
        "        ln = 0\n",
        "        lnn = 1\n",
        "        for _ in range(len(ls[i])):\n",
        "          ln += lnn\n",
        "          lnn += 1\n",
        "        sum_ln += ln\n",
        "    print(int(sum_ln))"
      ]
    }
  ]
}