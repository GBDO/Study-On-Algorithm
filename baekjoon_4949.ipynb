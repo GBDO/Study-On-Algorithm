{
  "nbformat": 4,
  "nbformat_minor": 0,
  "metadata": {
    "colab": {
      "name": "baekjoon_4949.ipynb",
      "provenance": []
    },
    "kernelspec": {
      "name": "python3",
      "display_name": "Python 3"
    },
    "language_info": {
      "name": "python"
    }
  },
  "cells": [
    {
      "cell_type": "code",
      "execution_count": 1,
      "metadata": {
        "colab": {
          "base_uri": "https://localhost:8080/"
        },
        "id": "vTtqNU85cb1o",
        "outputId": "77208797-706c-4383-dfe7-105a7a439134"
      },
      "outputs": [
        {
          "name": "stdout",
          "output_type": "stream",
          "text": [
            "So when I die (the [first] I will see in (heaven) is a score list).\n",
            "yes\n",
            "[ first in ] ( first out ).\n",
            "yes\n",
            "Half Moon tonight (At least it is better than no Moon at all].\n",
            "no\n",
            "A rope may form )( a trail in a maze.\n",
            "no\n",
            "Help( I[m being held prisoner in a fortune cookie factory)].\n",
            "no\n",
            "([ (([( [ ] ) ( ) (( ))] )) ]).\n",
            "yes\n",
            " .\n",
            "yes\n",
            ".\n"
          ]
        }
      ],
      "source": [
        "while True:\n",
        "    ch = input() \n",
        "    if ch == '.':  \n",
        "        break\n",
        "    stack = [] \n",
        "    flag = 0\n",
        "    for c in ch:\n",
        "        if c == '(':\n",
        "            stack.append(c)\n",
        "        elif c == '[':\n",
        "            stack.append(c)\n",
        "        elif c == ')':\n",
        "            if len(stack) == 0 or '(' != stack.pop():\n",
        "                flag = 1\n",
        "                break\n",
        "        elif c == ']':\n",
        "            if len(stack) == 0 or '[' != stack.pop():\n",
        "                flag = 1\n",
        "                break\n",
        "    if flag == 0 and len(stack) == 0:\n",
        "        print('yes')\n",
        "    else:\n",
        "        print('no')"
      ]
    }
  ]
}