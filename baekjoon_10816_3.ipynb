{
  "nbformat": 4,
  "nbformat_minor": 0,
  "metadata": {
    "colab": {
      "name": "baekjoon_10816_3.ipynb",
      "provenance": []
    },
    "kernelspec": {
      "name": "python3",
      "display_name": "Python 3"
    },
    "language_info": {
      "name": "python"
    }
  },
  "cells": [
    {
      "cell_type": "code",
      "execution_count": null,
      "metadata": {
        "colab": {
          "base_uri": "https://localhost:8080/"
        },
        "id": "ml6M1LIrHVAy",
        "outputId": "efccb8f6-0dcf-482c-dd51-651e3c4fb97f"
      },
      "outputs": [
        {
          "output_type": "stream",
          "name": "stdout",
          "text": [
            "10\n",
            "6 3 2 10 10 10 -10 -10 7 3\n",
            "8\n",
            "10 9 -5 2 3 4 5 -10\n",
            "3 0 0 1 2 0 0 2 "
          ]
        }
      ],
      "source": [
        "num1 = int(input())\n",
        "arr1 = list(map(int, input().split()))\n",
        "\n",
        "dict1 = {}\n",
        "for i in arr1:\n",
        "    if i in dict1:\n",
        "        dict1[i] += 1\n",
        "    else:\n",
        "        dict1[i] = 1\n",
        "\n",
        "num2 = int(input())\n",
        "arr2 = list(map(int, input().split()))\n",
        "for i in arr2:\n",
        "    if i in dict1:\n",
        "        print(dict1[i], end= ' ')\n",
        "    else:\n",
        "        print(0, end = ' ')"
      ]
    }
  ]
}