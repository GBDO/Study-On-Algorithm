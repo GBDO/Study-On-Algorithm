{
  "nbformat": 4,
  "nbformat_minor": 0,
  "metadata": {
    "colab": {
      "name": "baekjoon_1654.ipynb",
      "provenance": []
    },
    "kernelspec": {
      "name": "python3",
      "display_name": "Python 3"
    },
    "language_info": {
      "name": "python"
    }
  },
  "cells": [
    {
      "cell_type": "code",
      "execution_count": 5,
      "metadata": {
        "colab": {
          "base_uri": "https://localhost:8080/"
        },
        "id": "RPvOuQ4sLTWN",
        "outputId": "57f846cb-8eb1-48a7-d388-7f61753285ee"
      },
      "outputs": [
        {
          "output_type": "stream",
          "name": "stdout",
          "text": [
            "4 11\n",
            "802\n",
            "743\n",
            "457\n",
            "539\n",
            "200\n"
          ]
        }
      ],
      "source": [
        "num, nth = map(int, input().split())\n",
        "result = []\n",
        "ls = [int(input()) for _ in range(num)]\n",
        "left, right = 1, max(ls)\n",
        "while left <= right:\n",
        "    mid = (left + right) // 2 \n",
        "    lines = 0\n",
        "    for i in ls:\n",
        "        lines += i // mid\n",
        "        \n",
        "    if lines >= nth:\n",
        "        left = mid + 1\n",
        "    else:\n",
        "        right = mid - 1\n",
        "print(right)"
      ]
    }
  ]
}