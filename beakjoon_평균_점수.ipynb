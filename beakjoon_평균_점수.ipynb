{
  "nbformat": 4,
  "nbformat_minor": 0,
  "metadata": {
    "colab": {
      "name": "beakjoon_평균_점수.ipynb",
      "provenance": []
    },
    "kernelspec": {
      "name": "python3",
      "display_name": "Python 3"
    },
    "language_info": {
      "name": "python"
    }
  },
  "cells": [
    {
      "cell_type": "code",
      "execution_count": 4,
      "metadata": {
        "colab": {
          "base_uri": "https://localhost:8080/"
        },
        "id": "8cvweolTcsgb",
        "outputId": "5a578c56-a994-49b5-b2b0-94b6dbc4a34b"
      },
      "outputs": [
        {
          "output_type": "stream",
          "name": "stdout",
          "text": [
            "10\n",
            "65\n",
            "100\n",
            "30\n",
            "95\n",
            "68.0\n"
          ]
        }
      ],
      "source": [
        "sum = 0\n",
        "for _ in range(5):\n",
        "    x = int(input())\n",
        "    if x < 40:\n",
        "        sum = sum + 40\n",
        "    else:\n",
        "        sum = sum + x\n",
        "print(int(sum/5))"
      ]
    }
  ]
}