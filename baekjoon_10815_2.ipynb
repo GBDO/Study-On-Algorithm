{
  "nbformat": 4,
  "nbformat_minor": 0,
  "metadata": {
    "colab": {
      "name": "baekjoon_10815_2.ipynb",
      "provenance": []
    },
    "kernelspec": {
      "name": "python3",
      "display_name": "Python 3"
    },
    "language_info": {
      "name": "python"
    }
  },
  "cells": [
    {
      "cell_type": "code",
      "execution_count": 3,
      "metadata": {
        "colab": {
          "base_uri": "https://localhost:8080/"
        },
        "id": "2Jdk9C3KotQR",
        "outputId": "2314aee2-748f-4b46-d93c-649ed5b7cf64"
      },
      "outputs": [
        {
          "output_type": "stream",
          "name": "stdout",
          "text": [
            "1 2 3 4 5 6 7 8 9\n",
            "12 3 4 56 12 3 4 5 12 13 33\n",
            "01100111000\n"
          ]
        }
      ],
      "source": [
        "num1 = int(input())\n",
        "inp = list(map(int, input().split()))\n",
        "inp.sort()\n",
        "num2 = int(input())\n",
        "tar = list(map(int, input().split()))\n",
        "\n",
        "result = ''\n",
        "\n",
        "for k in tar:\n",
        "    left, right = 0, (len(inp) - 1)\n",
        "    while True:\n",
        "        median = (left + right)//2\n",
        "        if inp[median] == k:\n",
        "            if k == tar[-1]:\n",
        "                result += '1'\n",
        "            else:\n",
        "                result += '1 '\n",
        "            break\n",
        "        elif inp[median] < k:\n",
        "            left = median + 1\n",
        "        elif k < inp[median]:\n",
        "            right = median - 1 \n",
        "        if left > right:\n",
        "            if k == tar[-1]:\n",
        "                result += '0'\n",
        "            else:\n",
        "                result += '0 '\n",
        "            break\n",
        "print(result)"
      ]
    },
    {
      "cell_type": "code",
      "source": [
        "def binary(result,inp, tar, left, right):\n",
        "    median = (left + right)//2\n",
        "    if left > right:\n",
        "        return '0'\n",
        "    else:\n",
        "        if tar == inp[median]:\n",
        "            return '1'\n",
        "        elif inp[median] < k:\n",
        "            left = median + 1\n",
        "            return binary(result,inp, tar, left, right)\n",
        "        elif k < inp[median]:\n",
        "            right = median - 1\n",
        "            return binary(result,inp, tar, left, right)\n",
        "\n",
        "        \n",
        "num1 = int(input())\n",
        "inp = list(map(int, input().split()))\n",
        "inp.sort()\n",
        "num2 = int(input())\n",
        "tar = list(map(int, input().split()))\n",
        "result = []\n",
        "\n",
        "for k in tar:\n",
        "    left, right = 0, (len(inp) - 1)\n",
        "    result.append(binary(result, inp, k, left, right))\n",
        "\n",
        "for i in result:\n",
        "    print(i, end=' ')"
      ],
      "metadata": {
        "colab": {
          "base_uri": "https://localhost:8080/"
        },
        "id": "V4bdm5zts7mb",
        "outputId": "45a9f85e-d767-4fbe-871c-94c3d8474ff6"
      },
      "execution_count": 10,
      "outputs": [
        {
          "output_type": "stream",
          "name": "stdout",
          "text": [
            "5\n",
            "6 3 2 10 -10\n",
            "8\n",
            "10 9 -5 2 3 4 5 -10\n",
            "10 0 1 1 0 0 1 \n"
          ]
        }
      ]
    }
  ]
}