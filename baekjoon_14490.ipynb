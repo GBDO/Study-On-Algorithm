{
  "nbformat": 4,
  "nbformat_minor": 0,
  "metadata": {
    "colab": {
      "name": "baekjoon_14490.ipynb",
      "provenance": []
    },
    "kernelspec": {
      "name": "python3",
      "display_name": "Python 3"
    },
    "language_info": {
      "name": "python"
    }
  },
  "cells": [
    {
      "cell_type": "code",
      "execution_count": 1,
      "metadata": {
        "colab": {
          "base_uri": "https://localhost:8080/"
        },
        "id": "JAbZ_3LXUbhV",
        "outputId": "60cd431e-7f91-4336-8036-34d13b003c88"
      },
      "outputs": [
        {
          "output_type": "stream",
          "name": "stdout",
          "text": [
            "100:10\n",
            "10:1\n"
          ]
        }
      ],
      "source": [
        "from math import gcd\n",
        "\n",
        "def solution(string):\n",
        "    num1, num2 = map(int, string.split(\":\"))\n",
        "\n",
        "    gcd_num = gcd(num1, num2)\n",
        "\n",
        "    return f\"{num1 // gcd_num}:{num2 // gcd_num}\"\n",
        "\n",
        "string = input()\n",
        "print(solution(string))"
      ]
    }
  ]
}