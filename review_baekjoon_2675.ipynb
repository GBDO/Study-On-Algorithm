{
  "nbformat": 4,
  "nbformat_minor": 0,
  "metadata": {
    "colab": {
      "name": "review_baekjoon_2675.ipynb",
      "provenance": []
    },
    "kernelspec": {
      "name": "python3",
      "display_name": "Python 3"
    },
    "language_info": {
      "name": "python"
    }
  },
  "cells": [
    {
      "cell_type": "code",
      "execution_count": 8,
      "metadata": {
        "colab": {
          "base_uri": "https://localhost:8080/"
        },
        "id": "U9P0JyOC_q-G",
        "outputId": "2a97c411-ebe9-4ed1-e4f3-75c90d013a1a"
      },
      "outputs": [
        {
          "output_type": "stream",
          "name": "stdout",
          "text": [
            "2\n",
            "3 ABC\n",
            "AAABBBCCC\n",
            "5 /HTP\n",
            "/////HHHHHTTTTTPPPPP\n"
          ]
        }
      ],
      "source": [
        "# review_baekjoon_2675.py\n",
        "'''\n",
        "# [0] 테스트 케이스의 개수 입력 및 문자열 입력\n",
        "T      = int(input())\n",
        "String = input()\n",
        "String = String.strip()\n",
        "\n",
        "# [1] 출력\n",
        "for i in String:\n",
        "    for _ in range(T):\n",
        "        print(i, end = \"\")     \n",
        "'''\n",
        "\n",
        "def sr_rp(s):\n",
        "    result = ''\n",
        "    String = s\n",
        "    n, String = String.split()\n",
        "\n",
        "\n",
        "    for i in String:\n",
        "        for _ in range(int(n)):\n",
        "            result += i \n",
        "    return result\n",
        "\n",
        "T      = int(input())\n",
        "for _ in range(T):\n",
        "    print(sr_rp(input()))\n",
        "    \n",
        "\n",
        "\n",
        "\n"
      ]
    }
  ]
}