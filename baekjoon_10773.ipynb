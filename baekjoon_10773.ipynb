{
  "nbformat": 4,
  "nbformat_minor": 0,
  "metadata": {
    "colab": {
      "name": "baekjoon_10773.ipynb",
      "provenance": []
    },
    "kernelspec": {
      "name": "python3",
      "display_name": "Python 3"
    },
    "language_info": {
      "name": "python"
    }
  },
  "cells": [
    {
      "cell_type": "code",
      "execution_count": 1,
      "metadata": {
        "colab": {
          "base_uri": "https://localhost:8080/"
        },
        "id": "YW0Ks8KlQZ-T",
        "outputId": "49cc5d1f-2603-443d-9186-00dde78db3fb"
      },
      "outputs": [
        {
          "output_type": "stream",
          "name": "stdout",
          "text": [
            "4\n",
            "3\n",
            "0\n",
            "4\n",
            "0\n",
            "0\n"
          ]
        }
      ],
      "source": [
        "rep = int(input())\n",
        "ls = []\n",
        "sum = 0\n",
        "for _ in range(rep):\n",
        "    inp = int(input())\n",
        "    if inp == 0:\n",
        "        if len(ls) != 0:\n",
        "            x = ls.pop()\n",
        "            sum -= x\n",
        "    else:\n",
        "        ls.append(inp)\n",
        "        sum += inp\n",
        "print(sum)"
      ]
    }
  ]
}