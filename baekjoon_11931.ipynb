{
  "nbformat": 4,
  "nbformat_minor": 0,
  "metadata": {
    "colab": {
      "name": "baekjoon_11931.ipynb",
      "provenance": []
    },
    "kernelspec": {
      "name": "python3",
      "display_name": "Python 3"
    },
    "language_info": {
      "name": "python"
    }
  },
  "cells": [
    {
      "cell_type": "code",
      "execution_count": null,
      "metadata": {
        "id": "iLgtPxQ0B6Tw"
      },
      "outputs": [],
      "source": [
        "import sys\n",
        "num = int(sys.stdin.readline())\n",
        "ls = [0] * num \n",
        "for i in range(num):\n",
        "    tn = int(sys.stdin.readline())\n",
        "    ls[i] = tn\n",
        "ls.sort(reverse = True)\n",
        "for j in range(num):\n",
        "    print(ls[j])"
      ]
    }
  ]
}