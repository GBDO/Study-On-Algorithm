{
  "nbformat": 4,
  "nbformat_minor": 0,
  "metadata": {
    "colab": {
      "name": "baekjoon_10816_try_2_inspection.ipynb",
      "provenance": []
    },
    "kernelspec": {
      "name": "python3",
      "display_name": "Python 3"
    },
    "language_info": {
      "name": "python"
    }
  },
  "cells": [
    {
      "cell_type": "code",
      "execution_count": null,
      "metadata": {
        "id": "IuFbMrZqyjeA"
      },
      "outputs": [],
      "source": [
        "def binary(result,inp, tar, left, right):\n",
        "    median = (left + right)//2\n",
        "    if left > right:\n",
        "        print()\n",
        "        print('E_left:',left)\n",
        "        print('E_right:',right)\n",
        "        print('E_inp:',inp)\n",
        "        print()\n",
        "        return result\n",
        "    if inp[median] == tar:\n",
        "        if result > 0:\n",
        "            result += 1\n",
        "        else:\n",
        "            result = 1\n",
        "        print()\n",
        "        print('b_left:',left)\n",
        "        print('b_right:',right)\n",
        "        print('b_inp:',inp)\n",
        "        inp.pop(median)\n",
        "        left, right = 0, len(inp) - 1\n",
        "        print('a_left:',left)\n",
        "        print('a_right:',right)\n",
        "        print('a_inp:',inp)\n",
        "        print()\n",
        "        if tar in inp:\n",
        "            return binary(result,inp, tar, left, right)\n",
        "        else:\n",
        "            return result\n",
        "    elif inp[median] < tar:\n",
        "        left = median + 1\n",
        "        print()\n",
        "        print('R_left:',left)\n",
        "        print('R_right:',right)\n",
        "        print('R_inp:',inp)\n",
        "        print()\n",
        "        return binary(result,inp, tar, left, right)\n",
        "    elif inp[median] > tar:\n",
        "        right = median - 1\n",
        "        print()\n",
        "        print('L_left:',left)\n",
        "        print('L_right:',right)\n",
        "        print('L_inp:',inp)\n",
        "        print()\n",
        "        return binary(result,inp, tar, left, right)\n",
        "\n",
        "\n",
        "num1 = int(input())\n",
        "inp = list(map(int,input().split()))\n",
        "num2 = int(input())\n",
        "tar = list(map(int,input().split()))\n",
        "inp.sort()\n",
        "inp2 = inp\n",
        "for k in tar:\n",
        "    inp = inp2\n",
        "    result = 0\n",
        "    left, right = 0, len(inp) - 1\n",
        "    print(binary(result,inp, k, left, right),end = ' ')"
      ]
    }
  ]
}