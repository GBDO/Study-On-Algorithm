{
  "nbformat": 4,
  "nbformat_minor": 0,
  "metadata": {
    "colab": {
      "name": "baekjoon_그릇.ipynb",
      "provenance": []
    },
    "kernelspec": {
      "name": "python3",
      "display_name": "Python 3"
    },
    "language_info": {
      "name": "python"
    }
  },
  "cells": [
    {
      "cell_type": "code",
      "execution_count": 1,
      "metadata": {
        "colab": {
          "base_uri": "https://localhost:8080/"
        },
        "id": "Vm-rWZIoizwL",
        "outputId": "214e3d2d-1d4d-488f-b5dd-903c83bb6da3"
      },
      "outputs": [
        {
          "output_type": "stream",
          "name": "stdout",
          "text": [
            "((((\n",
            "25\n"
          ]
        }
      ],
      "source": [
        "x = input()\n",
        "length = 0\n",
        "for i in range(len(x)):\n",
        "    if i == 0:\n",
        "        length += 10\n",
        "    else:    \n",
        "        if x[i-1] == x[i]:\n",
        "            length += 5\n",
        "        elif x[i-1] != x[i]:\n",
        "            length += 10\n",
        "print(int(length))"
      ]
    }
  ]
}