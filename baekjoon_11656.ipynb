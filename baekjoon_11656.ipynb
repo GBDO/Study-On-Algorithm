{
  "nbformat": 4,
  "nbformat_minor": 0,
  "metadata": {
    "colab": {
      "name": "baekjoon_11656.ipynb",
      "provenance": []
    },
    "kernelspec": {
      "name": "python3",
      "display_name": "Python 3"
    },
    "language_info": {
      "name": "python"
    }
  },
  "cells": [
    {
      "cell_type": "code",
      "execution_count": 9,
      "metadata": {
        "colab": {
          "base_uri": "https://localhost:8080/"
        },
        "id": "iliVyv4IY9lM",
        "outputId": "83c5fc14-47ee-4332-c21c-dfcbe81bb009"
      },
      "outputs": [
        {
          "output_type": "stream",
          "name": "stdout",
          "text": [
            "baekjoon\n",
            "aekjoon\n",
            "baekjoon\n",
            "ekjoon\n",
            "joon\n",
            "kjoon\n",
            "n\n",
            "on\n",
            "oon\n"
          ]
        }
      ],
      "source": [
        "word = input()\n",
        "ls = []\n",
        "for i in range(len(word)):\n",
        "    ls.append(word[i:])\n",
        "ls.sort(key = lambda x: x)\n",
        "for i in range(len(ls)):\n",
        "    print(ls[i])"
      ]
    }
  ]
}