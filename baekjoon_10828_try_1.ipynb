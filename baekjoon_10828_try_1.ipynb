{
  "nbformat": 4,
  "nbformat_minor": 0,
  "metadata": {
    "colab": {
      "name": "baekjoon_10828_try_1.ipynb",
      "provenance": []
    },
    "kernelspec": {
      "name": "python3",
      "display_name": "Python 3"
    },
    "language_info": {
      "name": "python"
    }
  },
  "cells": [
    {
      "cell_type": "code",
      "execution_count": 26,
      "metadata": {
        "colab": {
          "base_uri": "https://localhost:8080/"
        },
        "id": "z3G9QH0A25Fg",
        "outputId": "b733407b-afe2-4a31-b754-7ff38ab8a2e3"
      },
      "outputs": [
        {
          "output_type": "stream",
          "name": "stdout",
          "text": [
            "14\n",
            "push 1\n",
            "push 2\n",
            "top\n",
            "2\n",
            "size\n",
            "2\n",
            "empty\n",
            "0\n",
            "pop\n",
            "2\n",
            "pop\n",
            "1\n",
            "pop\n",
            "-1\n",
            "size\n",
            "0\n",
            "empty\n",
            "1\n",
            "pop\n",
            "-1\n",
            "push 3\n",
            "empty\n",
            "0\n",
            "top\n",
            "3\n"
          ]
        }
      ],
      "source": [
        "rep = int(input())\n",
        "stack = []\n",
        "for _ in range(rep):\n",
        "    comend = ''\n",
        "    inp = 0\n",
        "    x = list(input().split())\n",
        "    if len(x) == 2:\n",
        "        comend, inp = x\n",
        "    else:\n",
        "        comend = x[0]\n",
        "    if comend == 'push':\n",
        "        stack.append(inp)\n",
        "    elif comend == 'pop':\n",
        "        if len(stack) == 0:\n",
        "            print(-1)\n",
        "        else:\n",
        "            print(stack.pop())\n",
        "    elif comend == 'size':\n",
        "        print(len(stack))\n",
        "    elif comend == 'empty':\n",
        "        if len(stack) == 0:\n",
        "            print(1)\n",
        "        else:\n",
        "            print(0)\n",
        "    elif comend == 'top':\n",
        "        if len(stack) > 0:\n",
        "            print(stack[-1])\n",
        "        else:\n",
        "            print(-1)"
      ]
    }
  ]
}