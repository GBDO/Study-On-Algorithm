{
  "nbformat": 4,
  "nbformat_minor": 0,
  "metadata": {
    "colab": {
      "name": "baekjoon_10816_try_2.ipynb",
      "provenance": []
    },
    "kernelspec": {
      "name": "python3",
      "display_name": "Python 3"
    },
    "language_info": {
      "name": "python"
    }
  },
  "cells": [
    {
      "cell_type": "code",
      "source": [
        "def binary(result,inp, tar, left, right):\n",
        "    median = (left + right)//2\n",
        "    if left > right:\n",
        "        return result\n",
        "    if inp[median] == tar:\n",
        "        if result > 0:\n",
        "            result += 1\n",
        "        else:\n",
        "            result = 1\n",
        "        inp.pop(median)\n",
        "        left, right = 0, len(inp) - 1\n",
        "        if tar in inp:\n",
        "            return binary(result,inp, tar, left, right)\n",
        "        else:\n",
        "            return result\n",
        "    elif inp[median] < tar:\n",
        "        left = median + 1\n",
        "        return binary(result,inp, tar, left, right)\n",
        "    elif inp[median] > tar:\n",
        "        right = median - 1\n",
        "        return binary(result,inp, tar, left, right)\n",
        "\n",
        "\n",
        "num1 = int(input())\n",
        "inp = list(map(int,input().split()))\n",
        "num2 = int(input())\n",
        "tar = list(map(int,input().split()))\n",
        "inp.sort()\n",
        "inp2 = inp\n",
        "for k in tar:\n",
        "    inp = inp2\n",
        "    result = 0\n",
        "    left, right = 0, len(inp) - 1\n",
        "    print(binary(result,inp, k, left, right),end = ' ')"
      ],
      "metadata": {
        "colab": {
          "base_uri": "https://localhost:8080/"
        },
        "id": "TPzaLyOJrQHf",
        "outputId": "ceb38faa-bd19-4a53-b220-3f0286b98fd5"
      },
      "execution_count": 32,
      "outputs": [
        {
          "output_type": "stream",
          "name": "stdout",
          "text": [
            "10\n",
            "6 3 2 10 10 10 -10 -10 7 3\n",
            "8\n",
            "10 9 -5 2 3 4 5 -10\n",
            "3 0 0 1 2 0 0 2 "
          ]
        }
      ]
    }
  ]
}