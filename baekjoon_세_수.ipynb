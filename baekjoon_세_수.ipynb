{
  "nbformat": 4,
  "nbformat_minor": 0,
  "metadata": {
    "colab": {
      "name": "baekjoon_세 수.ipynb",
      "provenance": []
    },
    "kernelspec": {
      "name": "python3",
      "display_name": "Python 3"
    },
    "language_info": {
      "name": "python"
    }
  },
  "cells": [
    {
      "cell_type": "code",
      "execution_count": 15,
      "metadata": {
        "colab": {
          "base_uri": "https://localhost:8080/"
        },
        "id": "j-zWI3APApc2",
        "outputId": "9e225af6-2208-46ff-a55f-829564ec63ef"
      },
      "outputs": [
        {
          "output_type": "stream",
          "name": "stdout",
          "text": [
            "20 30 10\n",
            "20\n"
          ]
        }
      ],
      "source": [
        "x, y, z = map(int,input().split())\n",
        "ls = [x, y, z]\n",
        "i = 0\n",
        "for i in range(2):\n",
        "    for j in range(i+1, 3, 1):\n",
        "        if ls[i] > ls[j]:\n",
        "            a = ls[i]\n",
        "            b = ls[j]\n",
        "            ls[i] = b\n",
        "            ls[j] = a\n",
        "    i+=1\n",
        "print(ls[1])"
      ]
    }
  ]
}