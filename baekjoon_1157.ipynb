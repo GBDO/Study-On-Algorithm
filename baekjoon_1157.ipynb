{
  "nbformat": 4,
  "nbformat_minor": 0,
  "metadata": {
    "colab": {
      "name": "baekjoon_1157.ipynb",
      "provenance": []
    },
    "kernelspec": {
      "name": "python3",
      "display_name": "Python 3"
    },
    "language_info": {
      "name": "python"
    }
  },
  "cells": [
    {
      "cell_type": "code",
      "execution_count": 35,
      "metadata": {
        "colab": {
          "base_uri": "https://localhost:8080/"
        },
        "id": "r9p55sV_au-3",
        "outputId": "93dd86de-98ff-424b-c64a-81f34eb8e676"
      },
      "outputs": [
        {
          "output_type": "stream",
          "name": "stdout",
          "text": [
            "aaaaaaaaaabbbbbbbbbbb\n",
            "B\n"
          ]
        }
      ],
      "source": [
        "tar = input().upper()\n",
        "dic = {}\n",
        "laal = ''\n",
        "tidx = ''\n",
        "for i in range(len(tar)):\n",
        "    if not tar[i] in dic:\n",
        "        dic[tar[i]] = 1\n",
        "    else:\n",
        "        dic[tar[i]] += 1\n",
        "\n",
        "keyls= list(dic.keys())\n",
        "\n",
        "for k in range(len(dic)):\n",
        "    if laal == '':\n",
        "        laal = str(dic[keyls[k]])\n",
        "        tidx = keyls[k]\n",
        "    elif int(laal) <  int(dic[keyls[k]]):\n",
        "        laal = str(dic[keyls[k]])\n",
        "        tidx = keyls[k]\n",
        "    elif int(laal) == int(dic[keyls[k]]):\n",
        "        tidx = tidx + keyls[k]\n",
        "if len(tidx) > 1:\n",
        "    print('?')\n",
        "else:\n",
        "    print(tidx)"
      ]
    }
  ]
}