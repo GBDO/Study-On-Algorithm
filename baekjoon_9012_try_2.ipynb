{
  "nbformat": 4,
  "nbformat_minor": 0,
  "metadata": {
    "colab": {
      "name": "baekjoon_9012_try_2.ipynb",
      "provenance": []
    },
    "kernelspec": {
      "name": "python3",
      "display_name": "Python 3"
    },
    "language_info": {
      "name": "python"
    }
  },
  "cells": [
    {
      "cell_type": "code",
      "execution_count": null,
      "metadata": {
        "id": "DJow3Y0_Rz38"
      },
      "outputs": [],
      "source": [
        "import sys\n",
        "\n",
        "num = int(sys.stdin.readline())\n",
        "\n",
        "for _ in range(num):\n",
        "    target = list(sys.stdin.readline().strip())\n",
        "    temp = []\n",
        "    for x in target:\n",
        "        if x == \"(\":\n",
        "            temp.append(x)\n",
        "        else:\n",
        "            if len(temp) == 0:\n",
        "                temp.append(x)\n",
        "                break\n",
        "            else: temp.pop()\n",
        "\n",
        "    if len(temp) == 0:\n",
        "        print(\"YES\")\n",
        "    else: print(\"NO\")"
      ]
    }
  ]
}