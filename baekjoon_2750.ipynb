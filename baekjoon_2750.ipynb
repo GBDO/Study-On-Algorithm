{
  "nbformat": 4,
  "nbformat_minor": 0,
  "metadata": {
    "colab": {
      "name": "baekjoon_2750.ipynb",
      "provenance": []
    },
    "kernelspec": {
      "name": "python3",
      "display_name": "Python 3"
    },
    "language_info": {
      "name": "python"
    }
  },
  "cells": [
    {
      "cell_type": "code",
      "execution_count": 10,
      "metadata": {
        "colab": {
          "base_uri": "https://localhost:8080/"
        },
        "id": "pRU8q3DSJ3ik",
        "outputId": "7f18208d-b1ac-4b00-8046-6ef0de269100"
      },
      "outputs": [
        {
          "output_type": "stream",
          "name": "stdout",
          "text": [
            "5\n",
            "5\n",
            "2\n",
            "3\n",
            "4\n",
            "1\n",
            "1\n",
            "2\n",
            "3\n",
            "4\n",
            "5\n"
          ]
        }
      ],
      "source": [
        "num = int(input())\n",
        "ls = [0]*num\n",
        "result = [0]*num\n",
        "for i in range(num):\n",
        "    ls[i] = int(input())\n",
        "    if i == 0:\n",
        "        pass\n",
        "ls.sort()\n",
        "for i in range(num):\n",
        "    print(ls[i])"
      ]
    }
  ]
}