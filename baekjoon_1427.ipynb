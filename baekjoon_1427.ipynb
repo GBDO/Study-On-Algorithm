{
  "nbformat": 4,
  "nbformat_minor": 0,
  "metadata": {
    "colab": {
      "name": "baekjoon_1427.ipynb",
      "provenance": []
    },
    "kernelspec": {
      "name": "python3",
      "display_name": "Python 3"
    },
    "language_info": {
      "name": "python"
    }
  },
  "cells": [
    {
      "cell_type": "code",
      "execution_count": 1,
      "metadata": {
        "colab": {
          "base_uri": "https://localhost:8080/"
        },
        "id": "NYWv8mF-0Toy",
        "outputId": "7e4ee205-962a-463d-d41b-51442d0b73aa"
      },
      "outputs": [
        {
          "output_type": "stream",
          "name": "stdout",
          "text": [
            "2143\n",
            "1234\n"
          ]
        }
      ],
      "source": [
        "import sys\n",
        "num = sys.stdin.readline()\n",
        "ls = [0] * len(num)\n",
        "for i in range(len(num)):\n",
        "    ls[i] = num[i]\n",
        "ls.sort(reverse=True)\n",
        "result = ''\n",
        "for k in range(len(num)):\n",
        "    result += str(ls[k])\n",
        "print(result)"
      ]
    }
  ]
}