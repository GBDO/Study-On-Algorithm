{
  "nbformat": 4,
  "nbformat_minor": 0,
  "metadata": {
    "colab": {
      "name": "baekjoon_2908.ipynb",
      "provenance": []
    },
    "kernelspec": {
      "name": "python3",
      "display_name": "Python 3"
    },
    "language_info": {
      "name": "python"
    }
  },
  "cells": [
    {
      "cell_type": "code",
      "execution_count": 5,
      "metadata": {
        "colab": {
          "base_uri": "https://localhost:8080/"
        },
        "id": "B6JrUO0c8y2J",
        "outputId": "766b4829-ed37-4186-9b00-0c6e05ab8a7a"
      },
      "outputs": [
        {
          "output_type": "stream",
          "name": "stdout",
          "text": [
            "839 237\n",
            "938\n"
          ]
        }
      ],
      "source": [
        "x, y = map(str,input().split())\n",
        "tar_1 = [' '] * int(len(x))\n",
        "tar_2 = [' '] * int(len(y))\n",
        "result_1 = ''\n",
        "result_2 = ''\n",
        "for i in range(len(x)):\n",
        "    n = len(x)-1-int(i)\n",
        "    tar_1[n] = x[i]\n",
        "for j in range(len(y)):\n",
        "    n = len(y)-1-int(j)\n",
        "    tar_2[n] = y[j]\n",
        "for i in range(len(tar_1)):\n",
        "    result_1+=tar_1[i]\n",
        "for i in range(len(tar_2)):\n",
        "    result_2+=tar_2[i]\n",
        "if result_1 > result_2:\n",
        "    print(result_1)\n",
        "else:\n",
        "    print(result_2)"
      ]
    }
  ]
}